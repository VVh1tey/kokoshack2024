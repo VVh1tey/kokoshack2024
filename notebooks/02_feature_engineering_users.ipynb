{
 "cells": [
  {
   "cell_type": "code",
   "execution_count": 1,
   "metadata": {},
   "outputs": [],
   "source": [
    "import numpy as np\n",
    "import pandas as pd\n",
    "\n",
    "import matplotlib.pyplot as plt\n",
    "import seaborn as sns\n",
    "import plotly.express as px\n",
    "import plotly.graph_objects as pgo\n",
    "\n",
    "from datetime import timedelta"
   ]
  },
  {
   "cell_type": "code",
   "execution_count": 2,
   "metadata": {},
   "outputs": [],
   "source": [
    "train_actions = pd.read_parquet('../data/raw/train_actions.pq', engine='pyarrow')\n",
    "stokman_catalog = pd.read_parquet('../data/raw/stokman_catalog_preprocessed.pq', engine = 'pyarrow')\n",
    "catalog_vector_map = pd.read_parquet('../data/raw/catalog_vector_mapping.pq')\n",
    "npz = np.load('../data/raw/vectors.npz')"
   ]
  },
  {
   "cell_type": "code",
   "execution_count": 3,
   "metadata": {},
   "outputs": [
    {
     "data": {
      "text/html": [
       "<div>\n",
       "<style scoped>\n",
       "    .dataframe tbody tr th:only-of-type {\n",
       "        vertical-align: middle;\n",
       "    }\n",
       "\n",
       "    .dataframe tbody tr th {\n",
       "        vertical-align: top;\n",
       "    }\n",
       "\n",
       "    .dataframe thead th {\n",
       "        text-align: right;\n",
       "    }\n",
       "</style>\n",
       "<table border=\"1\" class=\"dataframe\">\n",
       "  <thead>\n",
       "    <tr style=\"text-align: right;\">\n",
       "      <th></th>\n",
       "      <th>0</th>\n",
       "      <th>1</th>\n",
       "      <th>2</th>\n",
       "      <th>3</th>\n",
       "      <th>4</th>\n",
       "      <th>5</th>\n",
       "      <th>6</th>\n",
       "      <th>7</th>\n",
       "      <th>8</th>\n",
       "      <th>9</th>\n",
       "      <th>...</th>\n",
       "      <th>374</th>\n",
       "      <th>375</th>\n",
       "      <th>376</th>\n",
       "      <th>377</th>\n",
       "      <th>378</th>\n",
       "      <th>379</th>\n",
       "      <th>380</th>\n",
       "      <th>381</th>\n",
       "      <th>382</th>\n",
       "      <th>383</th>\n",
       "    </tr>\n",
       "  </thead>\n",
       "  <tbody>\n",
       "    <tr>\n",
       "      <th>0</th>\n",
       "      <td>-0.083243</td>\n",
       "      <td>0.048154</td>\n",
       "      <td>0.021908</td>\n",
       "      <td>0.046554</td>\n",
       "      <td>0.016020</td>\n",
       "      <td>0.017390</td>\n",
       "      <td>0.068655</td>\n",
       "      <td>0.003578</td>\n",
       "      <td>-0.101042</td>\n",
       "      <td>0.001614</td>\n",
       "      <td>...</td>\n",
       "      <td>-0.054967</td>\n",
       "      <td>-0.026560</td>\n",
       "      <td>-0.024370</td>\n",
       "      <td>-0.017317</td>\n",
       "      <td>-0.063028</td>\n",
       "      <td>-0.019044</td>\n",
       "      <td>-0.052011</td>\n",
       "      <td>-0.101291</td>\n",
       "      <td>0.106851</td>\n",
       "      <td>0.016866</td>\n",
       "    </tr>\n",
       "    <tr>\n",
       "      <th>1</th>\n",
       "      <td>-0.029639</td>\n",
       "      <td>0.046028</td>\n",
       "      <td>0.021950</td>\n",
       "      <td>0.022532</td>\n",
       "      <td>-0.110691</td>\n",
       "      <td>-0.053836</td>\n",
       "      <td>0.057446</td>\n",
       "      <td>0.030473</td>\n",
       "      <td>-0.027846</td>\n",
       "      <td>-0.031509</td>\n",
       "      <td>...</td>\n",
       "      <td>-0.030721</td>\n",
       "      <td>-0.021226</td>\n",
       "      <td>0.032937</td>\n",
       "      <td>0.052792</td>\n",
       "      <td>0.017208</td>\n",
       "      <td>0.001812</td>\n",
       "      <td>0.013390</td>\n",
       "      <td>0.001876</td>\n",
       "      <td>0.078863</td>\n",
       "      <td>-0.012866</td>\n",
       "    </tr>\n",
       "    <tr>\n",
       "      <th>2</th>\n",
       "      <td>-0.021771</td>\n",
       "      <td>0.093553</td>\n",
       "      <td>-0.050793</td>\n",
       "      <td>-0.000166</td>\n",
       "      <td>0.049989</td>\n",
       "      <td>0.075398</td>\n",
       "      <td>0.039691</td>\n",
       "      <td>-0.007549</td>\n",
       "      <td>-0.023111</td>\n",
       "      <td>-0.061027</td>\n",
       "      <td>...</td>\n",
       "      <td>-0.120556</td>\n",
       "      <td>-0.007603</td>\n",
       "      <td>-0.057520</td>\n",
       "      <td>0.018594</td>\n",
       "      <td>-0.047227</td>\n",
       "      <td>-0.030704</td>\n",
       "      <td>-0.002737</td>\n",
       "      <td>-0.181192</td>\n",
       "      <td>-0.027767</td>\n",
       "      <td>0.057662</td>\n",
       "    </tr>\n",
       "    <tr>\n",
       "      <th>3</th>\n",
       "      <td>-0.010277</td>\n",
       "      <td>0.072384</td>\n",
       "      <td>0.014594</td>\n",
       "      <td>0.097766</td>\n",
       "      <td>0.000443</td>\n",
       "      <td>-0.059049</td>\n",
       "      <td>0.039525</td>\n",
       "      <td>0.008496</td>\n",
       "      <td>-0.037287</td>\n",
       "      <td>-0.064468</td>\n",
       "      <td>...</td>\n",
       "      <td>-0.126487</td>\n",
       "      <td>0.015420</td>\n",
       "      <td>-0.012856</td>\n",
       "      <td>-0.025929</td>\n",
       "      <td>-0.033612</td>\n",
       "      <td>0.076626</td>\n",
       "      <td>0.127795</td>\n",
       "      <td>-0.148789</td>\n",
       "      <td>0.051517</td>\n",
       "      <td>0.061379</td>\n",
       "    </tr>\n",
       "    <tr>\n",
       "      <th>4</th>\n",
       "      <td>-0.012528</td>\n",
       "      <td>-0.019212</td>\n",
       "      <td>0.047336</td>\n",
       "      <td>0.084923</td>\n",
       "      <td>0.005401</td>\n",
       "      <td>0.029530</td>\n",
       "      <td>-0.033076</td>\n",
       "      <td>-0.002323</td>\n",
       "      <td>-0.042567</td>\n",
       "      <td>-0.027429</td>\n",
       "      <td>...</td>\n",
       "      <td>-0.091939</td>\n",
       "      <td>0.005534</td>\n",
       "      <td>0.009784</td>\n",
       "      <td>-0.035835</td>\n",
       "      <td>0.001122</td>\n",
       "      <td>0.054081</td>\n",
       "      <td>-0.015952</td>\n",
       "      <td>-0.100471</td>\n",
       "      <td>0.075144</td>\n",
       "      <td>0.016150</td>\n",
       "    </tr>\n",
       "  </tbody>\n",
       "</table>\n",
       "<p>5 rows × 384 columns</p>\n",
       "</div>"
      ],
      "text/plain": [
       "        0         1         2         3         4         5         6    \\\n",
       "0 -0.083243  0.048154  0.021908  0.046554  0.016020  0.017390  0.068655   \n",
       "1 -0.029639  0.046028  0.021950  0.022532 -0.110691 -0.053836  0.057446   \n",
       "2 -0.021771  0.093553 -0.050793 -0.000166  0.049989  0.075398  0.039691   \n",
       "3 -0.010277  0.072384  0.014594  0.097766  0.000443 -0.059049  0.039525   \n",
       "4 -0.012528 -0.019212  0.047336  0.084923  0.005401  0.029530 -0.033076   \n",
       "\n",
       "        7         8         9    ...       374       375       376       377  \\\n",
       "0  0.003578 -0.101042  0.001614  ... -0.054967 -0.026560 -0.024370 -0.017317   \n",
       "1  0.030473 -0.027846 -0.031509  ... -0.030721 -0.021226  0.032937  0.052792   \n",
       "2 -0.007549 -0.023111 -0.061027  ... -0.120556 -0.007603 -0.057520  0.018594   \n",
       "3  0.008496 -0.037287 -0.064468  ... -0.126487  0.015420 -0.012856 -0.025929   \n",
       "4 -0.002323 -0.042567 -0.027429  ... -0.091939  0.005534  0.009784 -0.035835   \n",
       "\n",
       "        378       379       380       381       382       383  \n",
       "0 -0.063028 -0.019044 -0.052011 -0.101291  0.106851  0.016866  \n",
       "1  0.017208  0.001812  0.013390  0.001876  0.078863 -0.012866  \n",
       "2 -0.047227 -0.030704 -0.002737 -0.181192 -0.027767  0.057662  \n",
       "3 -0.033612  0.076626  0.127795 -0.148789  0.051517  0.061379  \n",
       "4  0.001122  0.054081 -0.015952 -0.100471  0.075144  0.016150  \n",
       "\n",
       "[5 rows x 384 columns]"
      ]
     },
     "execution_count": 3,
     "metadata": {},
     "output_type": "execute_result"
    }
   ],
   "source": [
    "vectors_df = pd.DataFrame(npz['arr_0'])\n",
    "vectors_df.head()"
   ]
  },
  {
   "cell_type": "code",
   "execution_count": 4,
   "metadata": {},
   "outputs": [
    {
     "data": {
      "text/html": [
       "<div>\n",
       "<style scoped>\n",
       "    .dataframe tbody tr th:only-of-type {\n",
       "        vertical-align: middle;\n",
       "    }\n",
       "\n",
       "    .dataframe tbody tr th {\n",
       "        vertical-align: top;\n",
       "    }\n",
       "\n",
       "    .dataframe thead th {\n",
       "        text-align: right;\n",
       "    }\n",
       "</style>\n",
       "<table border=\"1\" class=\"dataframe\">\n",
       "  <thead>\n",
       "    <tr style=\"text-align: right;\">\n",
       "      <th></th>\n",
       "      <th>user_id</th>\n",
       "      <th>loc_user_id</th>\n",
       "      <th>action</th>\n",
       "      <th>date</th>\n",
       "      <th>products</th>\n",
       "      <th>pageId</th>\n",
       "    </tr>\n",
       "  </thead>\n",
       "  <tbody>\n",
       "    <tr>\n",
       "      <th>0</th>\n",
       "      <td>6fd49b56-8cc6-11ed-86e0-002590c0647c</td>\n",
       "      <td>c6e357dc-121d-449d-a744-e9a0b56c2380</td>\n",
       "      <td>7</td>\n",
       "      <td>2024-09-07 00:00:04</td>\n",
       "      <td>[]</td>\n",
       "      <td>2571824865</td>\n",
       "    </tr>\n",
       "    <tr>\n",
       "      <th>1</th>\n",
       "      <td>6fd49b56-8cc6-11ed-86e0-002590c0647c</td>\n",
       "      <td>c6e357dc-121d-449d-a744-e9a0b56c2380</td>\n",
       "      <td>7</td>\n",
       "      <td>2024-09-07 00:00:08</td>\n",
       "      <td>[]</td>\n",
       "      <td>3834364438</td>\n",
       "    </tr>\n",
       "    <tr>\n",
       "      <th>2</th>\n",
       "      <td>f9c498ec-5d3b-11ef-86e0-002590c0647c</td>\n",
       "      <td>120c9064-1131-4dc3-8048-44184531b42e</td>\n",
       "      <td>7</td>\n",
       "      <td>2024-09-07 00:00:08</td>\n",
       "      <td>[]</td>\n",
       "      <td>2448628415</td>\n",
       "    </tr>\n",
       "    <tr>\n",
       "      <th>3</th>\n",
       "      <td>59386b5c-e64f-11ec-8086-002590c82437</td>\n",
       "      <td>f0745572-893f-4e50-bc52-5af47badff5a</td>\n",
       "      <td>7</td>\n",
       "      <td>2024-09-07 00:00:11</td>\n",
       "      <td>[]</td>\n",
       "      <td>3875013967</td>\n",
       "    </tr>\n",
       "    <tr>\n",
       "      <th>4</th>\n",
       "      <td>badbd396-6cab-11ef-86e0-002590c0647c</td>\n",
       "      <td>73423d85-d47c-4332-8155-5200615302b5</td>\n",
       "      <td>7</td>\n",
       "      <td>2024-09-07 00:00:11</td>\n",
       "      <td>[]</td>\n",
       "      <td>3025531174</td>\n",
       "    </tr>\n",
       "  </tbody>\n",
       "</table>\n",
       "</div>"
      ],
      "text/plain": [
       "                                user_id                           loc_user_id  \\\n",
       "0  6fd49b56-8cc6-11ed-86e0-002590c0647c  c6e357dc-121d-449d-a744-e9a0b56c2380   \n",
       "1  6fd49b56-8cc6-11ed-86e0-002590c0647c  c6e357dc-121d-449d-a744-e9a0b56c2380   \n",
       "2  f9c498ec-5d3b-11ef-86e0-002590c0647c  120c9064-1131-4dc3-8048-44184531b42e   \n",
       "3  59386b5c-e64f-11ec-8086-002590c82437  f0745572-893f-4e50-bc52-5af47badff5a   \n",
       "4  badbd396-6cab-11ef-86e0-002590c0647c  73423d85-d47c-4332-8155-5200615302b5   \n",
       "\n",
       "   action                date products      pageId  \n",
       "0       7 2024-09-07 00:00:04       []  2571824865  \n",
       "1       7 2024-09-07 00:00:08       []  3834364438  \n",
       "2       7 2024-09-07 00:00:08       []  2448628415  \n",
       "3       7 2024-09-07 00:00:11       []  3875013967  \n",
       "4       7 2024-09-07 00:00:11       []  3025531174  "
      ]
     },
     "execution_count": 4,
     "metadata": {},
     "output_type": "execute_result"
    }
   ],
   "source": [
    "train_actions.head()"
   ]
  },
  {
   "cell_type": "code",
   "execution_count": 5,
   "metadata": {},
   "outputs": [
    {
     "name": "stdout",
     "output_type": "stream",
     "text": [
      "min_date = 2024-09-07 00:00:04, max_date = 2024-09-28 23:59:59\n"
     ]
    }
   ],
   "source": [
    "dates = pd.to_datetime(train_actions.date)\n",
    "print(f'min_date = {min(dates)}, max_date = {max(dates)}')"
   ]
  },
  {
   "cell_type": "markdown",
   "metadata": {},
   "source": [
    "Минимальный препроцессинг:"
   ]
  },
  {
   "cell_type": "code",
   "execution_count": 6,
   "metadata": {},
   "outputs": [],
   "source": [
    "train_actions_processed = train_actions.copy()\n",
    "train_actions_processed.date = pd.to_datetime(train_actions_processed.date)\n",
    "train_actions_processed = train_actions_processed.explode('products')\n",
    "train_actions_processed.products = train_actions_processed.products.fillna(0)\n",
    "train_actions_processed.products = train_actions_processed.products.astype(int)\n",
    "train_actions_processed.rename({'products': 'productId'}, axis=1, inplace=True)"
   ]
  },
  {
   "cell_type": "code",
   "execution_count": 7,
   "metadata": {},
   "outputs": [
    {
     "name": "stdout",
     "output_type": "stream",
     "text": [
      "<class 'pandas.core.frame.DataFrame'>\n",
      "RangeIndex: 89483 entries, 0 to 89482\n",
      "Data columns (total 7 columns):\n",
      " #   Column       Non-Null Count  Dtype         \n",
      "---  ------       --------------  -----         \n",
      " 0   add_date     89483 non-null  datetime64[us]\n",
      " 1   shop_id      89483 non-null  object        \n",
      " 2   product_id   89483 non-null  object        \n",
      " 3   category_id  89483 non-null  object        \n",
      " 4   price        89483 non-null  int32         \n",
      " 5   title        89483 non-null  object        \n",
      " 6   old_price    89483 non-null  int32         \n",
      "dtypes: datetime64[us](1), int32(2), object(4)\n",
      "memory usage: 4.1+ MB\n"
     ]
    }
   ],
   "source": [
    "stokman_catalog.info()"
   ]
  },
  {
   "cell_type": "code",
   "execution_count": 8,
   "metadata": {},
   "outputs": [],
   "source": [
    "stokman_catalog.add_date = pd.to_datetime(stokman_catalog.add_date)\n",
    "stokman_catalog.product_id = stokman_catalog.product_id.astype(int)"
   ]
  },
  {
   "cell_type": "code",
   "execution_count": 9,
   "metadata": {},
   "outputs": [
    {
     "name": "stdout",
     "output_type": "stream",
     "text": [
      "                                user_id                           loc_user_id  \\\n",
      "0  6fd49b56-8cc6-11ed-86e0-002590c0647c  c6e357dc-121d-449d-a744-e9a0b56c2380   \n",
      "1  6fd49b56-8cc6-11ed-86e0-002590c0647c  c6e357dc-121d-449d-a744-e9a0b56c2380   \n",
      "2  f9c498ec-5d3b-11ef-86e0-002590c0647c  120c9064-1131-4dc3-8048-44184531b42e   \n",
      "3  59386b5c-e64f-11ec-8086-002590c82437  f0745572-893f-4e50-bc52-5af47badff5a   \n",
      "4  badbd396-6cab-11ef-86e0-002590c0647c  73423d85-d47c-4332-8155-5200615302b5   \n",
      "\n",
      "   action                date  productId      pageId  \n",
      "0       7 2024-09-07 00:00:04          0  2571824865  \n",
      "1       7 2024-09-07 00:00:08          0  3834364438  \n",
      "2       7 2024-09-07 00:00:08          0  2448628415  \n",
      "3       7 2024-09-07 00:00:11          0  3875013967  \n",
      "4       7 2024-09-07 00:00:11          0  3025531174  \n",
      "<class 'pandas.core.frame.DataFrame'>\n",
      "Index: 6859002 entries, 0 to 6580935\n",
      "Data columns (total 6 columns):\n",
      " #   Column       Dtype         \n",
      "---  ------       -----         \n",
      " 0   user_id      object        \n",
      " 1   loc_user_id  object        \n",
      " 2   action       int64         \n",
      " 3   date         datetime64[us]\n",
      " 4   productId    int64         \n",
      " 5   pageId       object        \n",
      "dtypes: datetime64[us](1), int64(2), object(3)\n",
      "memory usage: 366.3+ MB\n",
      "None\n"
     ]
    }
   ],
   "source": [
    "print(train_actions_processed.head())\n",
    "print(train_actions_processed.info())"
   ]
  },
  {
   "cell_type": "code",
   "execution_count": 10,
   "metadata": {},
   "outputs": [],
   "source": [
    "productId_pageId_mapping = train_actions[['products', 'pageId']][\n",
    "    (train_actions['pageId'].notna()) & \n",
    "    (train_actions['products'].apply(len) == 1) & \n",
    "    train_actions['action'].isin([0, 7])]\n",
    "productId_pageId_mapping = productId_pageId_mapping.explode('products')\n",
    "productId_pageId_mapping.rename(columns={'products':'productId'}, inplace=True)"
   ]
  },
  {
   "cell_type": "markdown",
   "metadata": {},
   "source": [
    "- 0 - view (просмотр товара)\n",
    "- 1 - like (лайк товара)\n",
    "- 2 - addB (добавление товара в корзину)\n",
    "- 3 - delB (удаление товара из корзины)\n",
    "- 4 - clearB (удаление всех товаров из корзины)\n",
    "- 5 - order (оформление заказа)\n",
    "- 6 - listB (посещение страницы корзины и вывод списка товаров в корзине)\n",
    "- 7 - visit (посещение страницы с товаром)\n",
    "- 8 - visitCategory (посещение страницы с группой товаров)\n",
    "- 9 - search (поиск товара)"
   ]
  },
  {
   "cell_type": "code",
   "execution_count": 11,
   "metadata": {},
   "outputs": [],
   "source": [
    "ACTIONS = {\n",
    "    0: 'view',\n",
    "    1: 'like',\n",
    "    2: 'addB',\n",
    "    3: 'delB',\n",
    "    4: 'clearB',\n",
    "    5: 'order',\n",
    "    6: 'listB',\n",
    "    7: 'visit',\n",
    "    8: 'visitCategory',\n",
    "    9: 'search'\n",
    "}"
   ]
  },
  {
   "cell_type": "code",
   "execution_count": 12,
   "metadata": {},
   "outputs": [],
   "source": [
    "user_features = train_actions_processed.groupby('user_id').agg(\n",
    "    total_actions=('action', 'count'), # тотал кол-во действий\n",
    "    nunique_products_number=('productId', pd.Series.nunique) # кол-во уникальных товаров, с которыми взаимодействовал пользователь\n",
    ")\n",
    "\n",
    "# кол-во действий по номеру\n",
    "for action_code, action_name in ACTIONS.items():\n",
    "    user_features[f'{action_name}_number'] = train_actions_processed[train_actions_processed['action'] == action_code].groupby('user_id').size()\n",
    "\n",
    "# доля каждого действия от общего числа действий, возможно потом от этого избавимся т.к. фича примерно тоже самое что и предыдущая\n",
    "for action_code, action_name in ACTIONS.items():\n",
    "    user_features[f'fraction_{action_name}_ofAllActions'] = user_features[f'{action_name}_number'] / user_features['total_actions']\n",
    "\n",
    "# Активность за последние 3 и 7 дней\n",
    "max_date = train_actions_processed['date'].max()\n",
    "\n",
    "last_3_days = max_date - timedelta(days=3)\n",
    "last_7_days = max_date - timedelta(days=7)\n",
    "\n",
    "user_features['activity_last3days'] = train_actions_processed[train_actions_processed['date'] >= last_3_days].groupby('user_id').size()\n",
    "user_features['activity_last7days'] = train_actions_processed[train_actions_processed['date'] >= last_7_days].groupby('user_id').size()"
   ]
  },
  {
   "cell_type": "code",
   "execution_count": 24,
   "metadata": {},
   "outputs": [
    {
     "data": {
      "text/html": [
       "<div>\n",
       "<style scoped>\n",
       "    .dataframe tbody tr th:only-of-type {\n",
       "        vertical-align: middle;\n",
       "    }\n",
       "\n",
       "    .dataframe tbody tr th {\n",
       "        vertical-align: top;\n",
       "    }\n",
       "\n",
       "    .dataframe thead th {\n",
       "        text-align: right;\n",
       "    }\n",
       "</style>\n",
       "<table border=\"1\" class=\"dataframe\">\n",
       "  <thead>\n",
       "    <tr style=\"text-align: right;\">\n",
       "      <th></th>\n",
       "      <th>total_actions</th>\n",
       "      <th>nunique_products_number</th>\n",
       "      <th>view_number</th>\n",
       "      <th>like_number</th>\n",
       "      <th>addB_number</th>\n",
       "      <th>delB_number</th>\n",
       "      <th>clearB_number</th>\n",
       "      <th>order_number</th>\n",
       "      <th>listB_number</th>\n",
       "      <th>visit_number</th>\n",
       "      <th>...</th>\n",
       "      <th>fraction_order_ofAllActions</th>\n",
       "      <th>fraction_listB_ofAllActions</th>\n",
       "      <th>fraction_visit_ofAllActions</th>\n",
       "      <th>fraction_visitCategory_ofAllActions</th>\n",
       "      <th>fraction_search_ofAllActions</th>\n",
       "      <th>activity_last3days</th>\n",
       "      <th>activity_last7days</th>\n",
       "      <th>max_purchase_amount</th>\n",
       "      <th>min_purchase_amount</th>\n",
       "      <th>avg_purchase_amount</th>\n",
       "    </tr>\n",
       "    <tr>\n",
       "      <th>user_id</th>\n",
       "      <th></th>\n",
       "      <th></th>\n",
       "      <th></th>\n",
       "      <th></th>\n",
       "      <th></th>\n",
       "      <th></th>\n",
       "      <th></th>\n",
       "      <th></th>\n",
       "      <th></th>\n",
       "      <th></th>\n",
       "      <th></th>\n",
       "      <th></th>\n",
       "      <th></th>\n",
       "      <th></th>\n",
       "      <th></th>\n",
       "      <th></th>\n",
       "      <th></th>\n",
       "      <th></th>\n",
       "      <th></th>\n",
       "      <th></th>\n",
       "      <th></th>\n",
       "    </tr>\n",
       "  </thead>\n",
       "  <tbody>\n",
       "    <tr>\n",
       "      <th>/*</th>\n",
       "      <td>39</td>\n",
       "      <td>7</td>\n",
       "      <td>5.0</td>\n",
       "      <td>0.0</td>\n",
       "      <td>0.0</td>\n",
       "      <td>0.0</td>\n",
       "      <td>0.0</td>\n",
       "      <td>0.0</td>\n",
       "      <td>2.0</td>\n",
       "      <td>30.0</td>\n",
       "      <td>...</td>\n",
       "      <td>0.0</td>\n",
       "      <td>0.051282</td>\n",
       "      <td>0.769231</td>\n",
       "      <td>0.051282</td>\n",
       "      <td>0.0</td>\n",
       "      <td>0.0</td>\n",
       "      <td>0.0</td>\n",
       "      <td>0.0</td>\n",
       "      <td>0.0</td>\n",
       "      <td>0.0</td>\n",
       "    </tr>\n",
       "    <tr>\n",
       "      <th>0000bdba-5180-11eb-8a53-0cc47a6d2fef</th>\n",
       "      <td>29</td>\n",
       "      <td>4</td>\n",
       "      <td>5.0</td>\n",
       "      <td>1.0</td>\n",
       "      <td>1.0</td>\n",
       "      <td>0.0</td>\n",
       "      <td>0.0</td>\n",
       "      <td>0.0</td>\n",
       "      <td>2.0</td>\n",
       "      <td>15.0</td>\n",
       "      <td>...</td>\n",
       "      <td>0.0</td>\n",
       "      <td>0.068966</td>\n",
       "      <td>0.517241</td>\n",
       "      <td>0.172414</td>\n",
       "      <td>0.0</td>\n",
       "      <td>16.0</td>\n",
       "      <td>29.0</td>\n",
       "      <td>0.0</td>\n",
       "      <td>0.0</td>\n",
       "      <td>0.0</td>\n",
       "    </tr>\n",
       "    <tr>\n",
       "      <th>0000d5dc-78cf-11ef-86e0-002590c0647c</th>\n",
       "      <td>2</td>\n",
       "      <td>1</td>\n",
       "      <td>0.0</td>\n",
       "      <td>0.0</td>\n",
       "      <td>0.0</td>\n",
       "      <td>0.0</td>\n",
       "      <td>0.0</td>\n",
       "      <td>0.0</td>\n",
       "      <td>0.0</td>\n",
       "      <td>1.0</td>\n",
       "      <td>...</td>\n",
       "      <td>0.0</td>\n",
       "      <td>0.000000</td>\n",
       "      <td>0.500000</td>\n",
       "      <td>0.500000</td>\n",
       "      <td>0.0</td>\n",
       "      <td>0.0</td>\n",
       "      <td>2.0</td>\n",
       "      <td>0.0</td>\n",
       "      <td>0.0</td>\n",
       "      <td>0.0</td>\n",
       "    </tr>\n",
       "    <tr>\n",
       "      <th>0001151e-c2b9-11ee-bbb1-002590c82436</th>\n",
       "      <td>786</td>\n",
       "      <td>84</td>\n",
       "      <td>97.0</td>\n",
       "      <td>0.0</td>\n",
       "      <td>0.0</td>\n",
       "      <td>0.0</td>\n",
       "      <td>0.0</td>\n",
       "      <td>0.0</td>\n",
       "      <td>0.0</td>\n",
       "      <td>563.0</td>\n",
       "      <td>...</td>\n",
       "      <td>0.0</td>\n",
       "      <td>0.000000</td>\n",
       "      <td>0.716285</td>\n",
       "      <td>0.160305</td>\n",
       "      <td>0.0</td>\n",
       "      <td>106.0</td>\n",
       "      <td>220.0</td>\n",
       "      <td>0.0</td>\n",
       "      <td>0.0</td>\n",
       "      <td>0.0</td>\n",
       "    </tr>\n",
       "    <tr>\n",
       "      <th>00014c1e-f9d5-11eb-8a53-0cc47a6d2fef</th>\n",
       "      <td>4</td>\n",
       "      <td>1</td>\n",
       "      <td>0.0</td>\n",
       "      <td>0.0</td>\n",
       "      <td>0.0</td>\n",
       "      <td>0.0</td>\n",
       "      <td>0.0</td>\n",
       "      <td>0.0</td>\n",
       "      <td>0.0</td>\n",
       "      <td>2.0</td>\n",
       "      <td>...</td>\n",
       "      <td>0.0</td>\n",
       "      <td>0.000000</td>\n",
       "      <td>0.500000</td>\n",
       "      <td>0.500000</td>\n",
       "      <td>0.0</td>\n",
       "      <td>0.0</td>\n",
       "      <td>0.0</td>\n",
       "      <td>0.0</td>\n",
       "      <td>0.0</td>\n",
       "      <td>0.0</td>\n",
       "    </tr>\n",
       "  </tbody>\n",
       "</table>\n",
       "<p>5 rows × 27 columns</p>\n",
       "</div>"
      ],
      "text/plain": [
       "                                      total_actions  nunique_products_number  \\\n",
       "user_id                                                                        \n",
       "/*                                               39                        7   \n",
       "0000bdba-5180-11eb-8a53-0cc47a6d2fef             29                        4   \n",
       "0000d5dc-78cf-11ef-86e0-002590c0647c              2                        1   \n",
       "0001151e-c2b9-11ee-bbb1-002590c82436            786                       84   \n",
       "00014c1e-f9d5-11eb-8a53-0cc47a6d2fef              4                        1   \n",
       "\n",
       "                                      view_number  like_number  addB_number  \\\n",
       "user_id                                                                       \n",
       "/*                                            5.0          0.0          0.0   \n",
       "0000bdba-5180-11eb-8a53-0cc47a6d2fef          5.0          1.0          1.0   \n",
       "0000d5dc-78cf-11ef-86e0-002590c0647c          0.0          0.0          0.0   \n",
       "0001151e-c2b9-11ee-bbb1-002590c82436         97.0          0.0          0.0   \n",
       "00014c1e-f9d5-11eb-8a53-0cc47a6d2fef          0.0          0.0          0.0   \n",
       "\n",
       "                                      delB_number  clearB_number  \\\n",
       "user_id                                                            \n",
       "/*                                            0.0            0.0   \n",
       "0000bdba-5180-11eb-8a53-0cc47a6d2fef          0.0            0.0   \n",
       "0000d5dc-78cf-11ef-86e0-002590c0647c          0.0            0.0   \n",
       "0001151e-c2b9-11ee-bbb1-002590c82436          0.0            0.0   \n",
       "00014c1e-f9d5-11eb-8a53-0cc47a6d2fef          0.0            0.0   \n",
       "\n",
       "                                      order_number  listB_number  \\\n",
       "user_id                                                            \n",
       "/*                                             0.0           2.0   \n",
       "0000bdba-5180-11eb-8a53-0cc47a6d2fef           0.0           2.0   \n",
       "0000d5dc-78cf-11ef-86e0-002590c0647c           0.0           0.0   \n",
       "0001151e-c2b9-11ee-bbb1-002590c82436           0.0           0.0   \n",
       "00014c1e-f9d5-11eb-8a53-0cc47a6d2fef           0.0           0.0   \n",
       "\n",
       "                                      visit_number  ...  \\\n",
       "user_id                                             ...   \n",
       "/*                                            30.0  ...   \n",
       "0000bdba-5180-11eb-8a53-0cc47a6d2fef          15.0  ...   \n",
       "0000d5dc-78cf-11ef-86e0-002590c0647c           1.0  ...   \n",
       "0001151e-c2b9-11ee-bbb1-002590c82436         563.0  ...   \n",
       "00014c1e-f9d5-11eb-8a53-0cc47a6d2fef           2.0  ...   \n",
       "\n",
       "                                      fraction_order_ofAllActions  \\\n",
       "user_id                                                             \n",
       "/*                                                            0.0   \n",
       "0000bdba-5180-11eb-8a53-0cc47a6d2fef                          0.0   \n",
       "0000d5dc-78cf-11ef-86e0-002590c0647c                          0.0   \n",
       "0001151e-c2b9-11ee-bbb1-002590c82436                          0.0   \n",
       "00014c1e-f9d5-11eb-8a53-0cc47a6d2fef                          0.0   \n",
       "\n",
       "                                      fraction_listB_ofAllActions  \\\n",
       "user_id                                                             \n",
       "/*                                                       0.051282   \n",
       "0000bdba-5180-11eb-8a53-0cc47a6d2fef                     0.068966   \n",
       "0000d5dc-78cf-11ef-86e0-002590c0647c                     0.000000   \n",
       "0001151e-c2b9-11ee-bbb1-002590c82436                     0.000000   \n",
       "00014c1e-f9d5-11eb-8a53-0cc47a6d2fef                     0.000000   \n",
       "\n",
       "                                      fraction_visit_ofAllActions  \\\n",
       "user_id                                                             \n",
       "/*                                                       0.769231   \n",
       "0000bdba-5180-11eb-8a53-0cc47a6d2fef                     0.517241   \n",
       "0000d5dc-78cf-11ef-86e0-002590c0647c                     0.500000   \n",
       "0001151e-c2b9-11ee-bbb1-002590c82436                     0.716285   \n",
       "00014c1e-f9d5-11eb-8a53-0cc47a6d2fef                     0.500000   \n",
       "\n",
       "                                      fraction_visitCategory_ofAllActions  \\\n",
       "user_id                                                                     \n",
       "/*                                                               0.051282   \n",
       "0000bdba-5180-11eb-8a53-0cc47a6d2fef                             0.172414   \n",
       "0000d5dc-78cf-11ef-86e0-002590c0647c                             0.500000   \n",
       "0001151e-c2b9-11ee-bbb1-002590c82436                             0.160305   \n",
       "00014c1e-f9d5-11eb-8a53-0cc47a6d2fef                             0.500000   \n",
       "\n",
       "                                      fraction_search_ofAllActions  \\\n",
       "user_id                                                              \n",
       "/*                                                             0.0   \n",
       "0000bdba-5180-11eb-8a53-0cc47a6d2fef                           0.0   \n",
       "0000d5dc-78cf-11ef-86e0-002590c0647c                           0.0   \n",
       "0001151e-c2b9-11ee-bbb1-002590c82436                           0.0   \n",
       "00014c1e-f9d5-11eb-8a53-0cc47a6d2fef                           0.0   \n",
       "\n",
       "                                      activity_last3days  activity_last7days  \\\n",
       "user_id                                                                        \n",
       "/*                                                   0.0                 0.0   \n",
       "0000bdba-5180-11eb-8a53-0cc47a6d2fef                16.0                29.0   \n",
       "0000d5dc-78cf-11ef-86e0-002590c0647c                 0.0                 2.0   \n",
       "0001151e-c2b9-11ee-bbb1-002590c82436               106.0               220.0   \n",
       "00014c1e-f9d5-11eb-8a53-0cc47a6d2fef                 0.0                 0.0   \n",
       "\n",
       "                                      max_purchase_amount  \\\n",
       "user_id                                                     \n",
       "/*                                                    0.0   \n",
       "0000bdba-5180-11eb-8a53-0cc47a6d2fef                  0.0   \n",
       "0000d5dc-78cf-11ef-86e0-002590c0647c                  0.0   \n",
       "0001151e-c2b9-11ee-bbb1-002590c82436                  0.0   \n",
       "00014c1e-f9d5-11eb-8a53-0cc47a6d2fef                  0.0   \n",
       "\n",
       "                                      min_purchase_amount  avg_purchase_amount  \n",
       "user_id                                                                         \n",
       "/*                                                    0.0                  0.0  \n",
       "0000bdba-5180-11eb-8a53-0cc47a6d2fef                  0.0                  0.0  \n",
       "0000d5dc-78cf-11ef-86e0-002590c0647c                  0.0                  0.0  \n",
       "0001151e-c2b9-11ee-bbb1-002590c82436                  0.0                  0.0  \n",
       "00014c1e-f9d5-11eb-8a53-0cc47a6d2fef                  0.0                  0.0  \n",
       "\n",
       "[5 rows x 27 columns]"
      ]
     },
     "execution_count": 24,
     "metadata": {},
     "output_type": "execute_result"
    }
   ],
   "source": [
    "user_features.head()"
   ]
  },
  {
   "cell_type": "code",
   "execution_count": 14,
   "metadata": {},
   "outputs": [],
   "source": [
    "# Объединим по productId, чтобы получить цену каждого товара\n",
    "tap_with_prices = train_actions_processed.merge(stokman_catalog[['product_id', 'price']], left_on='productId', right_on='product_id', how='left')\n",
    "\n",
    "# Рассчитаем max, min, avg сумму покупок\n",
    "purchase_actions = tap_with_prices[tap_with_prices['action'] == 5].groupby('user_id').agg(\n",
    "    max_purchase_amount=('price', 'max'),\n",
    "    min_purchase_amount=('price', 'min'),\n",
    "    avg_purchase_amount=('price', 'mean')\n",
    ")\n",
    "\n",
    "# Объединим все вместе\n",
    "user_features = user_features.merge(purchase_actions, on='user_id', how='left')"
   ]
  },
  {
   "cell_type": "code",
   "execution_count": 15,
   "metadata": {},
   "outputs": [],
   "source": [
    "user_features.fillna(0, inplace=True)"
   ]
  },
  {
   "cell_type": "code",
   "execution_count": 23,
   "metadata": {},
   "outputs": [
    {
     "data": {
      "text/plain": [
       "Index(['total_actions', 'nunique_products_number', 'view_number',\n",
       "       'like_number', 'addB_number', 'delB_number', 'clearB_number',\n",
       "       'order_number', 'listB_number', 'visit_number', 'visitCategory_number',\n",
       "       'search_number', 'fraction_view_ofAllActions',\n",
       "       'fraction_like_ofAllActions', 'fraction_addB_ofAllActions',\n",
       "       'fraction_delB_ofAllActions', 'fraction_clearB_ofAllActions',\n",
       "       'fraction_order_ofAllActions', 'fraction_listB_ofAllActions',\n",
       "       'fraction_visit_ofAllActions', 'fraction_visitCategory_ofAllActions',\n",
       "       'fraction_search_ofAllActions', 'activity_last3days',\n",
       "       'activity_last7days', 'max_purchase_amount', 'min_purchase_amount',\n",
       "       'avg_purchase_amount'],\n",
       "      dtype='object')"
      ]
     },
     "execution_count": 23,
     "metadata": {},
     "output_type": "execute_result"
    }
   ],
   "source": [
    "user_features.columns"
   ]
  },
  {
   "cell_type": "code",
   "execution_count": 16,
   "metadata": {},
   "outputs": [
    {
     "data": {
      "text/html": [
       "<div>\n",
       "<style scoped>\n",
       "    .dataframe tbody tr th:only-of-type {\n",
       "        vertical-align: middle;\n",
       "    }\n",
       "\n",
       "    .dataframe tbody tr th {\n",
       "        vertical-align: top;\n",
       "    }\n",
       "\n",
       "    .dataframe thead th {\n",
       "        text-align: right;\n",
       "    }\n",
       "</style>\n",
       "<table border=\"1\" class=\"dataframe\">\n",
       "  <thead>\n",
       "    <tr style=\"text-align: right;\">\n",
       "      <th></th>\n",
       "      <th>total_actions</th>\n",
       "      <th>nunique_products_number</th>\n",
       "      <th>view_number</th>\n",
       "      <th>like_number</th>\n",
       "      <th>addB_number</th>\n",
       "      <th>delB_number</th>\n",
       "      <th>clearB_number</th>\n",
       "      <th>order_number</th>\n",
       "      <th>listB_number</th>\n",
       "      <th>visit_number</th>\n",
       "      <th>...</th>\n",
       "      <th>fraction_order_ofAllActions</th>\n",
       "      <th>fraction_listB_ofAllActions</th>\n",
       "      <th>fraction_visit_ofAllActions</th>\n",
       "      <th>fraction_visitCategory_ofAllActions</th>\n",
       "      <th>fraction_search_ofAllActions</th>\n",
       "      <th>activity_last3days</th>\n",
       "      <th>activity_last7days</th>\n",
       "      <th>max_purchase_amount</th>\n",
       "      <th>min_purchase_amount</th>\n",
       "      <th>avg_purchase_amount</th>\n",
       "    </tr>\n",
       "    <tr>\n",
       "      <th>user_id</th>\n",
       "      <th></th>\n",
       "      <th></th>\n",
       "      <th></th>\n",
       "      <th></th>\n",
       "      <th></th>\n",
       "      <th></th>\n",
       "      <th></th>\n",
       "      <th></th>\n",
       "      <th></th>\n",
       "      <th></th>\n",
       "      <th></th>\n",
       "      <th></th>\n",
       "      <th></th>\n",
       "      <th></th>\n",
       "      <th></th>\n",
       "      <th></th>\n",
       "      <th></th>\n",
       "      <th></th>\n",
       "      <th></th>\n",
       "      <th></th>\n",
       "      <th></th>\n",
       "    </tr>\n",
       "  </thead>\n",
       "  <tbody>\n",
       "    <tr>\n",
       "      <th>/*</th>\n",
       "      <td>39</td>\n",
       "      <td>7</td>\n",
       "      <td>5.0</td>\n",
       "      <td>0.0</td>\n",
       "      <td>0.0</td>\n",
       "      <td>0.0</td>\n",
       "      <td>0.0</td>\n",
       "      <td>0.0</td>\n",
       "      <td>2.0</td>\n",
       "      <td>30.0</td>\n",
       "      <td>...</td>\n",
       "      <td>0.0</td>\n",
       "      <td>0.051282</td>\n",
       "      <td>0.769231</td>\n",
       "      <td>0.051282</td>\n",
       "      <td>0.0</td>\n",
       "      <td>0.0</td>\n",
       "      <td>0.0</td>\n",
       "      <td>0.0</td>\n",
       "      <td>0.0</td>\n",
       "      <td>0.0</td>\n",
       "    </tr>\n",
       "    <tr>\n",
       "      <th>0000bdba-5180-11eb-8a53-0cc47a6d2fef</th>\n",
       "      <td>29</td>\n",
       "      <td>4</td>\n",
       "      <td>5.0</td>\n",
       "      <td>1.0</td>\n",
       "      <td>1.0</td>\n",
       "      <td>0.0</td>\n",
       "      <td>0.0</td>\n",
       "      <td>0.0</td>\n",
       "      <td>2.0</td>\n",
       "      <td>15.0</td>\n",
       "      <td>...</td>\n",
       "      <td>0.0</td>\n",
       "      <td>0.068966</td>\n",
       "      <td>0.517241</td>\n",
       "      <td>0.172414</td>\n",
       "      <td>0.0</td>\n",
       "      <td>16.0</td>\n",
       "      <td>29.0</td>\n",
       "      <td>0.0</td>\n",
       "      <td>0.0</td>\n",
       "      <td>0.0</td>\n",
       "    </tr>\n",
       "    <tr>\n",
       "      <th>0000d5dc-78cf-11ef-86e0-002590c0647c</th>\n",
       "      <td>2</td>\n",
       "      <td>1</td>\n",
       "      <td>0.0</td>\n",
       "      <td>0.0</td>\n",
       "      <td>0.0</td>\n",
       "      <td>0.0</td>\n",
       "      <td>0.0</td>\n",
       "      <td>0.0</td>\n",
       "      <td>0.0</td>\n",
       "      <td>1.0</td>\n",
       "      <td>...</td>\n",
       "      <td>0.0</td>\n",
       "      <td>0.000000</td>\n",
       "      <td>0.500000</td>\n",
       "      <td>0.500000</td>\n",
       "      <td>0.0</td>\n",
       "      <td>0.0</td>\n",
       "      <td>2.0</td>\n",
       "      <td>0.0</td>\n",
       "      <td>0.0</td>\n",
       "      <td>0.0</td>\n",
       "    </tr>\n",
       "    <tr>\n",
       "      <th>0001151e-c2b9-11ee-bbb1-002590c82436</th>\n",
       "      <td>786</td>\n",
       "      <td>84</td>\n",
       "      <td>97.0</td>\n",
       "      <td>0.0</td>\n",
       "      <td>0.0</td>\n",
       "      <td>0.0</td>\n",
       "      <td>0.0</td>\n",
       "      <td>0.0</td>\n",
       "      <td>0.0</td>\n",
       "      <td>563.0</td>\n",
       "      <td>...</td>\n",
       "      <td>0.0</td>\n",
       "      <td>0.000000</td>\n",
       "      <td>0.716285</td>\n",
       "      <td>0.160305</td>\n",
       "      <td>0.0</td>\n",
       "      <td>106.0</td>\n",
       "      <td>220.0</td>\n",
       "      <td>0.0</td>\n",
       "      <td>0.0</td>\n",
       "      <td>0.0</td>\n",
       "    </tr>\n",
       "    <tr>\n",
       "      <th>00014c1e-f9d5-11eb-8a53-0cc47a6d2fef</th>\n",
       "      <td>4</td>\n",
       "      <td>1</td>\n",
       "      <td>0.0</td>\n",
       "      <td>0.0</td>\n",
       "      <td>0.0</td>\n",
       "      <td>0.0</td>\n",
       "      <td>0.0</td>\n",
       "      <td>0.0</td>\n",
       "      <td>0.0</td>\n",
       "      <td>2.0</td>\n",
       "      <td>...</td>\n",
       "      <td>0.0</td>\n",
       "      <td>0.000000</td>\n",
       "      <td>0.500000</td>\n",
       "      <td>0.500000</td>\n",
       "      <td>0.0</td>\n",
       "      <td>0.0</td>\n",
       "      <td>0.0</td>\n",
       "      <td>0.0</td>\n",
       "      <td>0.0</td>\n",
       "      <td>0.0</td>\n",
       "    </tr>\n",
       "  </tbody>\n",
       "</table>\n",
       "<p>5 rows × 27 columns</p>\n",
       "</div>"
      ],
      "text/plain": [
       "                                      total_actions  nunique_products_number  \\\n",
       "user_id                                                                        \n",
       "/*                                               39                        7   \n",
       "0000bdba-5180-11eb-8a53-0cc47a6d2fef             29                        4   \n",
       "0000d5dc-78cf-11ef-86e0-002590c0647c              2                        1   \n",
       "0001151e-c2b9-11ee-bbb1-002590c82436            786                       84   \n",
       "00014c1e-f9d5-11eb-8a53-0cc47a6d2fef              4                        1   \n",
       "\n",
       "                                      view_number  like_number  addB_number  \\\n",
       "user_id                                                                       \n",
       "/*                                            5.0          0.0          0.0   \n",
       "0000bdba-5180-11eb-8a53-0cc47a6d2fef          5.0          1.0          1.0   \n",
       "0000d5dc-78cf-11ef-86e0-002590c0647c          0.0          0.0          0.0   \n",
       "0001151e-c2b9-11ee-bbb1-002590c82436         97.0          0.0          0.0   \n",
       "00014c1e-f9d5-11eb-8a53-0cc47a6d2fef          0.0          0.0          0.0   \n",
       "\n",
       "                                      delB_number  clearB_number  \\\n",
       "user_id                                                            \n",
       "/*                                            0.0            0.0   \n",
       "0000bdba-5180-11eb-8a53-0cc47a6d2fef          0.0            0.0   \n",
       "0000d5dc-78cf-11ef-86e0-002590c0647c          0.0            0.0   \n",
       "0001151e-c2b9-11ee-bbb1-002590c82436          0.0            0.0   \n",
       "00014c1e-f9d5-11eb-8a53-0cc47a6d2fef          0.0            0.0   \n",
       "\n",
       "                                      order_number  listB_number  \\\n",
       "user_id                                                            \n",
       "/*                                             0.0           2.0   \n",
       "0000bdba-5180-11eb-8a53-0cc47a6d2fef           0.0           2.0   \n",
       "0000d5dc-78cf-11ef-86e0-002590c0647c           0.0           0.0   \n",
       "0001151e-c2b9-11ee-bbb1-002590c82436           0.0           0.0   \n",
       "00014c1e-f9d5-11eb-8a53-0cc47a6d2fef           0.0           0.0   \n",
       "\n",
       "                                      visit_number  ...  \\\n",
       "user_id                                             ...   \n",
       "/*                                            30.0  ...   \n",
       "0000bdba-5180-11eb-8a53-0cc47a6d2fef          15.0  ...   \n",
       "0000d5dc-78cf-11ef-86e0-002590c0647c           1.0  ...   \n",
       "0001151e-c2b9-11ee-bbb1-002590c82436         563.0  ...   \n",
       "00014c1e-f9d5-11eb-8a53-0cc47a6d2fef           2.0  ...   \n",
       "\n",
       "                                      fraction_order_ofAllActions  \\\n",
       "user_id                                                             \n",
       "/*                                                            0.0   \n",
       "0000bdba-5180-11eb-8a53-0cc47a6d2fef                          0.0   \n",
       "0000d5dc-78cf-11ef-86e0-002590c0647c                          0.0   \n",
       "0001151e-c2b9-11ee-bbb1-002590c82436                          0.0   \n",
       "00014c1e-f9d5-11eb-8a53-0cc47a6d2fef                          0.0   \n",
       "\n",
       "                                      fraction_listB_ofAllActions  \\\n",
       "user_id                                                             \n",
       "/*                                                       0.051282   \n",
       "0000bdba-5180-11eb-8a53-0cc47a6d2fef                     0.068966   \n",
       "0000d5dc-78cf-11ef-86e0-002590c0647c                     0.000000   \n",
       "0001151e-c2b9-11ee-bbb1-002590c82436                     0.000000   \n",
       "00014c1e-f9d5-11eb-8a53-0cc47a6d2fef                     0.000000   \n",
       "\n",
       "                                      fraction_visit_ofAllActions  \\\n",
       "user_id                                                             \n",
       "/*                                                       0.769231   \n",
       "0000bdba-5180-11eb-8a53-0cc47a6d2fef                     0.517241   \n",
       "0000d5dc-78cf-11ef-86e0-002590c0647c                     0.500000   \n",
       "0001151e-c2b9-11ee-bbb1-002590c82436                     0.716285   \n",
       "00014c1e-f9d5-11eb-8a53-0cc47a6d2fef                     0.500000   \n",
       "\n",
       "                                      fraction_visitCategory_ofAllActions  \\\n",
       "user_id                                                                     \n",
       "/*                                                               0.051282   \n",
       "0000bdba-5180-11eb-8a53-0cc47a6d2fef                             0.172414   \n",
       "0000d5dc-78cf-11ef-86e0-002590c0647c                             0.500000   \n",
       "0001151e-c2b9-11ee-bbb1-002590c82436                             0.160305   \n",
       "00014c1e-f9d5-11eb-8a53-0cc47a6d2fef                             0.500000   \n",
       "\n",
       "                                      fraction_search_ofAllActions  \\\n",
       "user_id                                                              \n",
       "/*                                                             0.0   \n",
       "0000bdba-5180-11eb-8a53-0cc47a6d2fef                           0.0   \n",
       "0000d5dc-78cf-11ef-86e0-002590c0647c                           0.0   \n",
       "0001151e-c2b9-11ee-bbb1-002590c82436                           0.0   \n",
       "00014c1e-f9d5-11eb-8a53-0cc47a6d2fef                           0.0   \n",
       "\n",
       "                                      activity_last3days  activity_last7days  \\\n",
       "user_id                                                                        \n",
       "/*                                                   0.0                 0.0   \n",
       "0000bdba-5180-11eb-8a53-0cc47a6d2fef                16.0                29.0   \n",
       "0000d5dc-78cf-11ef-86e0-002590c0647c                 0.0                 2.0   \n",
       "0001151e-c2b9-11ee-bbb1-002590c82436               106.0               220.0   \n",
       "00014c1e-f9d5-11eb-8a53-0cc47a6d2fef                 0.0                 0.0   \n",
       "\n",
       "                                      max_purchase_amount  \\\n",
       "user_id                                                     \n",
       "/*                                                    0.0   \n",
       "0000bdba-5180-11eb-8a53-0cc47a6d2fef                  0.0   \n",
       "0000d5dc-78cf-11ef-86e0-002590c0647c                  0.0   \n",
       "0001151e-c2b9-11ee-bbb1-002590c82436                  0.0   \n",
       "00014c1e-f9d5-11eb-8a53-0cc47a6d2fef                  0.0   \n",
       "\n",
       "                                      min_purchase_amount  avg_purchase_amount  \n",
       "user_id                                                                         \n",
       "/*                                                    0.0                  0.0  \n",
       "0000bdba-5180-11eb-8a53-0cc47a6d2fef                  0.0                  0.0  \n",
       "0000d5dc-78cf-11ef-86e0-002590c0647c                  0.0                  0.0  \n",
       "0001151e-c2b9-11ee-bbb1-002590c82436                  0.0                  0.0  \n",
       "00014c1e-f9d5-11eb-8a53-0cc47a6d2fef                  0.0                  0.0  \n",
       "\n",
       "[5 rows x 27 columns]"
      ]
     },
     "execution_count": 16,
     "metadata": {},
     "output_type": "execute_result"
    }
   ],
   "source": [
    "user_features.head()"
   ]
  },
  {
   "cell_type": "code",
   "execution_count": 17,
   "metadata": {},
   "outputs": [
    {
     "data": {
      "application/vnd.plotly.v1+json": {
       "config": {
        "plotlyServerURL": "https://plot.ly"
       },
       "data": [
        {
         "colorscale": [
          [
           0,
           "#440154"
          ],
          [
           0.1111111111111111,
           "#482878"
          ],
          [
           0.2222222222222222,
           "#3e4989"
          ],
          [
           0.3333333333333333,
           "#31688e"
          ],
          [
           0.4444444444444444,
           "#26828e"
          ],
          [
           0.5555555555555556,
           "#1f9e89"
          ],
          [
           0.6666666666666666,
           "#35b779"
          ],
          [
           0.7777777777777778,
           "#6ece58"
          ],
          [
           0.8888888888888888,
           "#b5de2b"
          ],
          [
           1,
           "#fde725"
          ]
         ],
         "type": "heatmap",
         "x": [
          "total_actions",
          "nunique_products_number",
          "view_number",
          "like_number",
          "addB_number",
          "delB_number",
          "clearB_number",
          "order_number",
          "listB_number",
          "visit_number",
          "visitCategory_number",
          "search_number",
          "fraction_view_ofAllActions",
          "fraction_like_ofAllActions",
          "fraction_addB_ofAllActions",
          "fraction_delB_ofAllActions",
          "fraction_clearB_ofAllActions",
          "fraction_order_ofAllActions",
          "fraction_listB_ofAllActions",
          "fraction_visit_ofAllActions",
          "fraction_visitCategory_ofAllActions",
          "fraction_search_ofAllActions",
          "activity_last3days",
          "activity_last7days",
          "max_purchase_amount",
          "min_purchase_amount",
          "avg_purchase_amount"
         ],
         "y": [
          "total_actions",
          "nunique_products_number",
          "view_number",
          "like_number",
          "addB_number",
          "delB_number",
          "clearB_number",
          "order_number",
          "listB_number",
          "visit_number",
          "visitCategory_number",
          "search_number",
          "fraction_view_ofAllActions",
          "fraction_like_ofAllActions",
          "fraction_addB_ofAllActions",
          "fraction_delB_ofAllActions",
          "fraction_clearB_ofAllActions",
          "fraction_order_ofAllActions",
          "fraction_listB_ofAllActions",
          "fraction_visit_ofAllActions",
          "fraction_visitCategory_ofAllActions",
          "fraction_search_ofAllActions",
          "activity_last3days",
          "activity_last7days",
          "max_purchase_amount",
          "min_purchase_amount",
          "avg_purchase_amount"
         ],
         "z": [
          [
           1,
           0.8945543841997068,
           0.9085529303827206,
           0.42225689416275,
           0.6623139178240645,
           0.6312675473790499,
           0.1799192299289815,
           0.4776053689726294,
           0.6230947690010192,
           0.982253108824255,
           0.9027059358007679,
           0.48513505321400563,
           0.02702214600863516,
           0.12263083147249713,
           0.11259945514822267,
           0.156740187259937,
           0.00995944527070924,
           0.1202955692857305,
           0.2713502816410751,
           -0.10140600739356163,
           0.03498184066895537,
           0.06206392191117007,
           0.58120498597463,
           0.7649082339453169,
           0.31879594493814,
           0.1718149484852808,
           0.24498913352944288
          ],
          [
           0.8945543841997068,
           1,
           0.966325319977884,
           0.38500357900705784,
           0.44533207931763935,
           0.4150488421302646,
           0.13006270985455806,
           0.313507528105586,
           0.3970294103272805,
           0.8816874950819075,
           0.8102413985224075,
           0.4570393306833595,
           0.08135882529206846,
           0.13830900222332768,
           0.09026398200536843,
           0.11806858928047625,
           0.0076650714012806214,
           0.0852919958543835,
           0.1974143411172656,
           -0.11675734143595358,
           0.013577561646375715,
           0.044886255025480985,
           0.5098690272135121,
           0.7023035042900543,
           0.22330546274685142,
           0.1208941556534662,
           0.1723888517019132
          ],
          [
           0.9085529303827206,
           0.966325319977884,
           1,
           0.3417350149736476,
           0.48040818428548837,
           0.4480873208348714,
           0.12365644835543613,
           0.32030339001346686,
           0.4105212072474507,
           0.8912641322305199,
           0.8098876506448349,
           0.44635247020745267,
           0.0717395466251196,
           0.090880141955314,
           0.08613293592429719,
           0.10456576362504506,
           0.00705606519611414,
           0.08372478057560029,
           0.17251633179706471,
           -0.10152521297423898,
           0.010914831351402528,
           0.040368468543737164,
           0.49983636633731465,
           0.6949559384371548,
           0.22941172861059872,
           0.12888444728568274,
           0.18121434388785176
          ],
          [
           0.42225689416275,
           0.38500357900705784,
           0.3417350149736476,
           1,
           0.33767913488637696,
           0.3287815705446559,
           0.02426693864587043,
           0.2558594803338042,
           0.31613975356044527,
           0.3908803692957458,
           0.33749139225766206,
           0.1712573341275198,
           0.004992360200928898,
           0.4542323407271421,
           0.04167360406075391,
           0.06377027406945018,
           0.0027455319035523994,
           0.0486835575842145,
           0.10674707259763343,
           -0.03479297944239664,
           0.00017185152691823722,
           0.012503552150466756,
           0.3299550173432521,
           0.37559065779679707,
           0.1537817646168073,
           0.0706775670030853,
           0.11143547224369542
          ],
          [
           0.6623139178240645,
           0.44533207931763935,
           0.48040818428548837,
           0.33767913488637696,
           1,
           0.8273580389577656,
           0.3303774263620278,
           0.662468508679103,
           0.7369701307496485,
           0.5898573996472448,
           0.49344664234791497,
           0.2484707415444988,
           0.010575336338038045,
           0.0788476260338273,
           0.22976123267336687,
           0.20350716696150076,
           0.018813784005396652,
           0.19454295555920526,
           0.3305987857092603,
           -0.0703740836454797,
           0.0002916226250178327,
           0.023928648434111386,
           0.3442822575964557,
           0.47392055247153625,
           0.34785270238873783,
           0.16001046548264097,
           0.24854061729299848
          ],
          [
           0.6312675473790499,
           0.4150488421302646,
           0.4480873208348714,
           0.3287815705446559,
           0.8273580389577656,
           1,
           0.11735117456504587,
           0.4532260600154545,
           0.7993823555669641,
           0.540484268535186,
           0.46092109138704407,
           0.21970469871874265,
           0.0031546330246744582,
           0.07198067342304282,
           0.12417644922672826,
           0.3546450685211618,
           0.006279190071044621,
           0.10788992914761182,
           0.4237787177588614,
           -0.06924606117641671,
           -0.00445702644206154,
           0.017484675471109705,
           0.31205638594286755,
           0.43138501251182265,
           0.2861357695177878,
           0.1468608233753517,
           0.21680952082704297
          ],
          [
           0.1799192299289815,
           0.13006270985455806,
           0.12365644835543613,
           0.02426693864587043,
           0.3303774263620278,
           0.11735117456504587,
           1,
           0.15146175353850952,
           0.1425931231591823,
           0.1885936493161308,
           0.09801044961895573,
           0.1335991210320508,
           0.0016728333728178596,
           0.013777900001361707,
           0.047708511828117015,
           0.026926428099502346,
           0.31254274442528973,
           0.020876148184511455,
           0.0459472630003522,
           -0.01172562644108087,
           -0.00040047393152321977,
           0.008334036155354085,
           0.05633729795343969,
           0.10898241263499753,
           0.06665103446227359,
           0.0349777781055343,
           0.04435687742649467
          ],
          [
           0.4776053689726294,
           0.313507528105586,
           0.32030339001346686,
           0.2558594803338042,
           0.662468508679103,
           0.4532260600154545,
           0.15146175353850952,
           1,
           0.5132799887477177,
           0.4475706532862345,
           0.31318471410594634,
           0.1985616618156582,
           0.0034212351655878866,
           0.05182927935096613,
           0.11252609362440232,
           0.10180628295541082,
           0.00459516124733796,
           0.3971302562117293,
           0.20801504892327496,
           -0.03998607025067369,
           -0.0032094729524536725,
           0.015190798094677578,
           0.22377429176568264,
           0.3462590665080792,
           0.4620310205167954,
           0.20326375628102644,
           0.3182288050471713
          ],
          [
           0.6230947690010192,
           0.3970294103272805,
           0.4105212072474507,
           0.31613975356044527,
           0.7369701307496485,
           0.7993823555669641,
           0.1425931231591823,
           0.5132799887477177,
           1,
           0.5012267427156039,
           0.3950456660145357,
           0.1881183831625073,
           0.001150358238370353,
           0.060498015353182645,
           0.10148734657796242,
           0.21381138157818205,
           0.005377966218495446,
           0.11105975210286423,
           0.4733204508776273,
           -0.06844003028426536,
           -0.006405333012563857,
           0.012272889293231396,
           0.32768072206754245,
           0.4618940071079021,
           0.25494208322734396,
           0.10645142983222637,
           0.1721580907660737
          ],
          [
           0.982253108824255,
           0.8816874950819075,
           0.8912641322305199,
           0.3908803692957458,
           0.5898573996472448,
           0.540484268535186,
           0.1885936493161308,
           0.4475706532862345,
           0.5012267427156039,
           1,
           0.9034913795313082,
           0.47329690504795047,
           0.020219542120036522,
           0.12075379260289461,
           0.1035222824107145,
           0.13123553721706593,
           0.010466305823815187,
           0.11376732404549324,
           0.20758118051300464,
           -0.08620126646134983,
           0.034674742283531845,
           0.05877150423391792,
           0.5759557994863748,
           0.7472152140237571,
           0.314709121359589,
           0.1757615694577158,
           0.24562297558878912
          ],
          [
           0.9027059358007679,
           0.8102413985224075,
           0.8098876506448349,
           0.33749139225766206,
           0.49344664234791497,
           0.46092109138704407,
           0.09801044961895573,
           0.31318471410594634,
           0.3950456660145357,
           0.9034913795313082,
           1,
           0.4663195739505925,
           0.008156159018616143,
           0.10022146185654301,
           0.08966805205672697,
           0.11024389904206408,
           0.0073517903027445946,
           0.08477359852493695,
           0.17324616953674501,
           -0.12363331467117548,
           0.10221062100832401,
           0.07790844735356084,
           0.5926324025095552,
           0.7295284443773642,
           0.25412208100196276,
           0.14938199823850623,
           0.20691763298397606
          ],
          [
           0.48513505321400563,
           0.4570393306833595,
           0.44635247020745267,
           0.1712573341275198,
           0.2484707415444988,
           0.21970469871874265,
           0.1335991210320508,
           0.1985616618156582,
           0.1881183831625073,
           0.47329690504795047,
           0.4663195739505925,
           1,
           0.0050208363886818244,
           0.04923971791414147,
           0.04747626971781312,
           0.06139168026958419,
           0.005983957076059887,
           0.05418036587524382,
           0.09179182103614439,
           -0.0671626542283831,
           0.022684983125515697,
           0.2951259674361327,
           0.24933562989153135,
           0.3572267645397283,
           0.15263985337375602,
           0.09344181010666651,
           0.1243259215062783
          ],
          [
           0.02702214600863516,
           0.08135882529206846,
           0.0717395466251196,
           0.004992360200928898,
           0.010575336338038045,
           0.0031546330246744582,
           0.0016728333728178596,
           0.0034212351655878866,
           0.001150358238370353,
           0.020219542120036522,
           0.008156159018616143,
           0.0050208363886818244,
           1,
           0.009568738367673402,
           0.04418154528715214,
           0.0016283613025708406,
           0.000030546926917328925,
           0.0021232833638087684,
           0.005651766209034768,
           -0.6371484368456851,
           -0.23450787809860696,
           -0.026571736757452113,
           0.018572932448576322,
           0.02163312047591068,
           0.005941201773662589,
           0.0055080137506749605,
           0.005976555397590827
          ],
          [
           0.12263083147249713,
           0.13830900222332768,
           0.090880141955314,
           0.4542323407271421,
           0.0788476260338273,
           0.07198067342304282,
           0.013777900001361707,
           0.05182927935096613,
           0.060498015353182645,
           0.12075379260289461,
           0.10022146185654301,
           0.04923971791414147,
           0.009568738367673402,
           1,
           0.05041055333147471,
           0.05153635416257823,
           0.006502772510449667,
           0.0321128896644791,
           0.06693627579269791,
           -0.04802639803213913,
           -0.0009517893188759895,
           0.017898236822963064,
           0.10444472778709728,
           0.10619349259108958,
           0.061171469786669576,
           0.04380046910320355,
           0.05370065249102801
          ],
          [
           0.11259945514822267,
           0.09026398200536843,
           0.08613293592429719,
           0.04167360406075391,
           0.22976123267336687,
           0.12417644922672826,
           0.047708511828117015,
           0.11252609362440232,
           0.10148734657796242,
           0.1035222824107145,
           0.08966805205672697,
           0.04747626971781312,
           0.04418154528715214,
           0.05041055333147471,
           1,
           0.16759246600831715,
           0.03741131621085199,
           0.18930763926196367,
           0.2607159850770413,
           -0.10909489352126342,
           -0.01170713292628084,
           0.022364428287728614,
           0.057840202587286074,
           0.07822647995284658,
           0.14374525156345952,
           0.12078493691632759,
           0.13635664019324087
          ],
          [
           0.156740187259937,
           0.11806858928047625,
           0.10456576362504506,
           0.06377027406945018,
           0.20350716696150076,
           0.3546450685211618,
           0.026926428099502346,
           0.10180628295541082,
           0.21381138157818205,
           0.13123553721706593,
           0.11024389904206408,
           0.06139168026958419,
           0.0016283613025708406,
           0.05153635416257823,
           0.16759246600831715,
           1,
           0.013151763270322345,
           0.11952527281856937,
           0.5706856644947585,
           -0.09257508500305028,
           -0.013083025381063542,
           0.020076283746127355,
           0.07073836578817033,
           0.10008983384585234,
           0.15214761488473455,
           0.13072482866989502,
           0.1466285140526032
          ],
          [
           0.00995944527070924,
           0.0076650714012806214,
           0.00705606519611414,
           0.0027455319035523994,
           0.018813784005396652,
           0.006279190071044621,
           0.31254274442528973,
           0.00459516124733796,
           0.005377966218495446,
           0.010466305823815187,
           0.0073517903027445946,
           0.005983957076059887,
           0.000030546926917328925,
           0.006502772510449667,
           0.03741131621085199,
           0.013151763270322345,
           1,
           0.005876875253283324,
           0.037354062887162726,
           -0.008909152908414193,
           -0.00197209692595473,
           0.00441794057489407,
           0.00405182486310217,
           0.006725827383030076,
           0.009256617633276119,
           0.01059097650816472,
           0.010178568088887032
          ],
          [
           0.1202955692857305,
           0.0852919958543835,
           0.08372478057560029,
           0.0486835575842145,
           0.19454295555920526,
           0.10788992914761182,
           0.020876148184511455,
           0.3971302562117293,
           0.11105975210286423,
           0.11376732404549324,
           0.08477359852493695,
           0.05418036587524382,
           0.0021232833638087684,
           0.0321128896644791,
           0.18930763926196367,
           0.11952527281856937,
           0.005876875253283324,
           1,
           0.22780316722070781,
           -0.0449855279876426,
           -0.010239448069984976,
           0.018409588439603247,
           0.05750789540965942,
           0.08663118951034889,
           0.5238998077895158,
           0.4543013960948536,
           0.504579042024179
          ],
          [
           0.2713502816410751,
           0.1974143411172656,
           0.17251633179706471,
           0.10674707259763343,
           0.3305987857092603,
           0.4237787177588614,
           0.0459472630003522,
           0.20801504892327496,
           0.4733204508776273,
           0.20758118051300464,
           0.17324616953674501,
           0.09179182103614439,
           0.005651766209034768,
           0.06693627579269791,
           0.2607159850770413,
           0.5706856644947585,
           0.037354062887162726,
           0.22780316722070781,
           1,
           -0.14195212376977323,
           -0.023129961495894653,
           0.024584527543395938,
           0.13347617156684694,
           0.18466156184753682,
           0.22559583077964623,
           0.16976843377969428,
           0.20275792480859253
          ],
          [
           -0.10140600739356163,
           -0.11675734143595358,
           -0.10152521297423898,
           -0.03479297944239664,
           -0.0703740836454797,
           -0.06924606117641671,
           -0.01172562644108087,
           -0.03998607025067369,
           -0.06844003028426536,
           -0.08620126646134983,
           -0.12363331467117548,
           -0.0671626542283831,
           -0.6371484368456851,
           -0.04802639803213913,
           -0.10909489352126342,
           -0.09257508500305028,
           -0.008909152908414193,
           -0.0449855279876426,
           -0.14195212376977323,
           1,
           -0.5762763075809768,
           -0.14491912417492914,
           -0.06147737823860386,
           -0.07614859316350328,
           -0.04890140953804543,
           -0.03870887688835309,
           -0.045206182517223636
          ],
          [
           0.03498184066895537,
           0.013577561646375715,
           0.010914831351402528,
           0.00017185152691823722,
           0.0002916226250178327,
           -0.00445702644206154,
           -0.00040047393152321977,
           -0.0032094729524536725,
           -0.006405333012563857,
           0.034674742283531845,
           0.10221062100832401,
           0.022684983125515697,
           -0.23450787809860696,
           -0.0009517893188759895,
           -0.01170713292628084,
           -0.013083025381063542,
           -0.00197209692595473,
           -0.010239448069984976,
           -0.023129961495894653,
           -0.5762763075809768,
           1,
           0.08223461728068947,
           0.024490082197554074,
           0.028113184276559653,
           -0.0032315076044903903,
           -0.003315171659250259,
           -0.003271499478158975
          ],
          [
           0.06206392191117007,
           0.044886255025480985,
           0.040368468543737164,
           0.012503552150466756,
           0.023928648434111386,
           0.017484675471109705,
           0.008334036155354085,
           0.015190798094677578,
           0.012272889293231396,
           0.05877150423391792,
           0.07790844735356084,
           0.2951259674361327,
           -0.026571736757452113,
           0.017898236822963064,
           0.022364428287728614,
           0.020076283746127355,
           0.00441794057489407,
           0.018409588439603247,
           0.024584527543395938,
           -0.14491912417492914,
           0.08223461728068947,
           1,
           0.036059872527795564,
           0.04812908913194655,
           0.025858773889318475,
           0.023922186278957064,
           0.026007204268698444
          ],
          [
           0.58120498597463,
           0.5098690272135121,
           0.49983636633731465,
           0.3299550173432521,
           0.3442822575964557,
           0.31205638594286755,
           0.05633729795343969,
           0.22377429176568264,
           0.32768072206754245,
           0.5759557994863748,
           0.5926324025095552,
           0.24933562989153135,
           0.018572932448576322,
           0.10444472778709728,
           0.057840202587286074,
           0.07073836578817033,
           0.00405182486310217,
           0.05750789540965942,
           0.13347617156684694,
           -0.06147737823860386,
           0.024490082197554074,
           0.036059872527795564,
           1,
           0.7921722972600814,
           0.16405619536881125,
           0.0971775320545269,
           0.13159212963386374
          ],
          [
           0.7649082339453169,
           0.7023035042900543,
           0.6949559384371548,
           0.37559065779679707,
           0.47392055247153625,
           0.43138501251182265,
           0.10898241263499753,
           0.3462590665080792,
           0.4618940071079021,
           0.7472152140237571,
           0.7295284443773642,
           0.3572267645397283,
           0.02163312047591068,
           0.10619349259108958,
           0.07822647995284658,
           0.10008983384585234,
           0.006725827383030076,
           0.08663118951034889,
           0.18466156184753682,
           -0.07614859316350328,
           0.028113184276559653,
           0.04812908913194655,
           0.7921722972600814,
           1,
           0.2292721844940108,
           0.12804436033553485,
           0.17825391330020174
          ],
          [
           0.31879594493814,
           0.22330546274685142,
           0.22941172861059872,
           0.1537817646168073,
           0.34785270238873783,
           0.2861357695177878,
           0.06665103446227359,
           0.4620310205167954,
           0.25494208322734396,
           0.314709121359589,
           0.25412208100196276,
           0.15263985337375602,
           0.005941201773662589,
           0.061171469786669576,
           0.14374525156345952,
           0.15214761488473455,
           0.009256617633276119,
           0.5238998077895158,
           0.22559583077964623,
           -0.04890140953804543,
           -0.0032315076044903903,
           0.025858773889318475,
           0.16405619536881125,
           0.2292721844940108,
           1,
           0.8534115068457757,
           0.9561789117011916
          ],
          [
           0.1718149484852808,
           0.1208941556534662,
           0.12888444728568274,
           0.0706775670030853,
           0.16001046548264097,
           0.1468608233753517,
           0.0349777781055343,
           0.20326375628102644,
           0.10645142983222637,
           0.1757615694577158,
           0.14938199823850623,
           0.09344181010666651,
           0.0055080137506749605,
           0.04380046910320355,
           0.12078493691632759,
           0.13072482866989502,
           0.01059097650816472,
           0.4543013960948536,
           0.16976843377969428,
           -0.03870887688835309,
           -0.003315171659250259,
           0.023922186278957064,
           0.0971775320545269,
           0.12804436033553485,
           0.8534115068457757,
           1,
           0.9614765357374596
          ],
          [
           0.24498913352944288,
           0.1723888517019132,
           0.18121434388785176,
           0.11143547224369542,
           0.24854061729299848,
           0.21680952082704297,
           0.04435687742649467,
           0.3182288050471713,
           0.1721580907660737,
           0.24562297558878912,
           0.20691763298397606,
           0.1243259215062783,
           0.005976555397590827,
           0.05370065249102801,
           0.13635664019324087,
           0.1466285140526032,
           0.010178568088887032,
           0.504579042024179,
           0.20275792480859253,
           -0.045206182517223636,
           -0.003271499478158975,
           0.026007204268698444,
           0.13159212963386374,
           0.17825391330020174,
           0.9561789117011916,
           0.9614765357374596,
           1
          ]
         ]
        }
       ],
       "layout": {
        "template": {
         "data": {
          "bar": [
           {
            "error_x": {
             "color": "#2a3f5f"
            },
            "error_y": {
             "color": "#2a3f5f"
            },
            "marker": {
             "line": {
              "color": "#E5ECF6",
              "width": 0.5
             },
             "pattern": {
              "fillmode": "overlay",
              "size": 10,
              "solidity": 0.2
             }
            },
            "type": "bar"
           }
          ],
          "barpolar": [
           {
            "marker": {
             "line": {
              "color": "#E5ECF6",
              "width": 0.5
             },
             "pattern": {
              "fillmode": "overlay",
              "size": 10,
              "solidity": 0.2
             }
            },
            "type": "barpolar"
           }
          ],
          "carpet": [
           {
            "aaxis": {
             "endlinecolor": "#2a3f5f",
             "gridcolor": "white",
             "linecolor": "white",
             "minorgridcolor": "white",
             "startlinecolor": "#2a3f5f"
            },
            "baxis": {
             "endlinecolor": "#2a3f5f",
             "gridcolor": "white",
             "linecolor": "white",
             "minorgridcolor": "white",
             "startlinecolor": "#2a3f5f"
            },
            "type": "carpet"
           }
          ],
          "choropleth": [
           {
            "colorbar": {
             "outlinewidth": 0,
             "ticks": ""
            },
            "type": "choropleth"
           }
          ],
          "contour": [
           {
            "colorbar": {
             "outlinewidth": 0,
             "ticks": ""
            },
            "colorscale": [
             [
              0,
              "#0d0887"
             ],
             [
              0.1111111111111111,
              "#46039f"
             ],
             [
              0.2222222222222222,
              "#7201a8"
             ],
             [
              0.3333333333333333,
              "#9c179e"
             ],
             [
              0.4444444444444444,
              "#bd3786"
             ],
             [
              0.5555555555555556,
              "#d8576b"
             ],
             [
              0.6666666666666666,
              "#ed7953"
             ],
             [
              0.7777777777777778,
              "#fb9f3a"
             ],
             [
              0.8888888888888888,
              "#fdca26"
             ],
             [
              1,
              "#f0f921"
             ]
            ],
            "type": "contour"
           }
          ],
          "contourcarpet": [
           {
            "colorbar": {
             "outlinewidth": 0,
             "ticks": ""
            },
            "type": "contourcarpet"
           }
          ],
          "heatmap": [
           {
            "colorbar": {
             "outlinewidth": 0,
             "ticks": ""
            },
            "colorscale": [
             [
              0,
              "#0d0887"
             ],
             [
              0.1111111111111111,
              "#46039f"
             ],
             [
              0.2222222222222222,
              "#7201a8"
             ],
             [
              0.3333333333333333,
              "#9c179e"
             ],
             [
              0.4444444444444444,
              "#bd3786"
             ],
             [
              0.5555555555555556,
              "#d8576b"
             ],
             [
              0.6666666666666666,
              "#ed7953"
             ],
             [
              0.7777777777777778,
              "#fb9f3a"
             ],
             [
              0.8888888888888888,
              "#fdca26"
             ],
             [
              1,
              "#f0f921"
             ]
            ],
            "type": "heatmap"
           }
          ],
          "heatmapgl": [
           {
            "colorbar": {
             "outlinewidth": 0,
             "ticks": ""
            },
            "colorscale": [
             [
              0,
              "#0d0887"
             ],
             [
              0.1111111111111111,
              "#46039f"
             ],
             [
              0.2222222222222222,
              "#7201a8"
             ],
             [
              0.3333333333333333,
              "#9c179e"
             ],
             [
              0.4444444444444444,
              "#bd3786"
             ],
             [
              0.5555555555555556,
              "#d8576b"
             ],
             [
              0.6666666666666666,
              "#ed7953"
             ],
             [
              0.7777777777777778,
              "#fb9f3a"
             ],
             [
              0.8888888888888888,
              "#fdca26"
             ],
             [
              1,
              "#f0f921"
             ]
            ],
            "type": "heatmapgl"
           }
          ],
          "histogram": [
           {
            "marker": {
             "pattern": {
              "fillmode": "overlay",
              "size": 10,
              "solidity": 0.2
             }
            },
            "type": "histogram"
           }
          ],
          "histogram2d": [
           {
            "colorbar": {
             "outlinewidth": 0,
             "ticks": ""
            },
            "colorscale": [
             [
              0,
              "#0d0887"
             ],
             [
              0.1111111111111111,
              "#46039f"
             ],
             [
              0.2222222222222222,
              "#7201a8"
             ],
             [
              0.3333333333333333,
              "#9c179e"
             ],
             [
              0.4444444444444444,
              "#bd3786"
             ],
             [
              0.5555555555555556,
              "#d8576b"
             ],
             [
              0.6666666666666666,
              "#ed7953"
             ],
             [
              0.7777777777777778,
              "#fb9f3a"
             ],
             [
              0.8888888888888888,
              "#fdca26"
             ],
             [
              1,
              "#f0f921"
             ]
            ],
            "type": "histogram2d"
           }
          ],
          "histogram2dcontour": [
           {
            "colorbar": {
             "outlinewidth": 0,
             "ticks": ""
            },
            "colorscale": [
             [
              0,
              "#0d0887"
             ],
             [
              0.1111111111111111,
              "#46039f"
             ],
             [
              0.2222222222222222,
              "#7201a8"
             ],
             [
              0.3333333333333333,
              "#9c179e"
             ],
             [
              0.4444444444444444,
              "#bd3786"
             ],
             [
              0.5555555555555556,
              "#d8576b"
             ],
             [
              0.6666666666666666,
              "#ed7953"
             ],
             [
              0.7777777777777778,
              "#fb9f3a"
             ],
             [
              0.8888888888888888,
              "#fdca26"
             ],
             [
              1,
              "#f0f921"
             ]
            ],
            "type": "histogram2dcontour"
           }
          ],
          "mesh3d": [
           {
            "colorbar": {
             "outlinewidth": 0,
             "ticks": ""
            },
            "type": "mesh3d"
           }
          ],
          "parcoords": [
           {
            "line": {
             "colorbar": {
              "outlinewidth": 0,
              "ticks": ""
             }
            },
            "type": "parcoords"
           }
          ],
          "pie": [
           {
            "automargin": true,
            "type": "pie"
           }
          ],
          "scatter": [
           {
            "fillpattern": {
             "fillmode": "overlay",
             "size": 10,
             "solidity": 0.2
            },
            "type": "scatter"
           }
          ],
          "scatter3d": [
           {
            "line": {
             "colorbar": {
              "outlinewidth": 0,
              "ticks": ""
             }
            },
            "marker": {
             "colorbar": {
              "outlinewidth": 0,
              "ticks": ""
             }
            },
            "type": "scatter3d"
           }
          ],
          "scattercarpet": [
           {
            "marker": {
             "colorbar": {
              "outlinewidth": 0,
              "ticks": ""
             }
            },
            "type": "scattercarpet"
           }
          ],
          "scattergeo": [
           {
            "marker": {
             "colorbar": {
              "outlinewidth": 0,
              "ticks": ""
             }
            },
            "type": "scattergeo"
           }
          ],
          "scattergl": [
           {
            "marker": {
             "colorbar": {
              "outlinewidth": 0,
              "ticks": ""
             }
            },
            "type": "scattergl"
           }
          ],
          "scattermapbox": [
           {
            "marker": {
             "colorbar": {
              "outlinewidth": 0,
              "ticks": ""
             }
            },
            "type": "scattermapbox"
           }
          ],
          "scatterpolar": [
           {
            "marker": {
             "colorbar": {
              "outlinewidth": 0,
              "ticks": ""
             }
            },
            "type": "scatterpolar"
           }
          ],
          "scatterpolargl": [
           {
            "marker": {
             "colorbar": {
              "outlinewidth": 0,
              "ticks": ""
             }
            },
            "type": "scatterpolargl"
           }
          ],
          "scatterternary": [
           {
            "marker": {
             "colorbar": {
              "outlinewidth": 0,
              "ticks": ""
             }
            },
            "type": "scatterternary"
           }
          ],
          "surface": [
           {
            "colorbar": {
             "outlinewidth": 0,
             "ticks": ""
            },
            "colorscale": [
             [
              0,
              "#0d0887"
             ],
             [
              0.1111111111111111,
              "#46039f"
             ],
             [
              0.2222222222222222,
              "#7201a8"
             ],
             [
              0.3333333333333333,
              "#9c179e"
             ],
             [
              0.4444444444444444,
              "#bd3786"
             ],
             [
              0.5555555555555556,
              "#d8576b"
             ],
             [
              0.6666666666666666,
              "#ed7953"
             ],
             [
              0.7777777777777778,
              "#fb9f3a"
             ],
             [
              0.8888888888888888,
              "#fdca26"
             ],
             [
              1,
              "#f0f921"
             ]
            ],
            "type": "surface"
           }
          ],
          "table": [
           {
            "cells": {
             "fill": {
              "color": "#EBF0F8"
             },
             "line": {
              "color": "white"
             }
            },
            "header": {
             "fill": {
              "color": "#C8D4E3"
             },
             "line": {
              "color": "white"
             }
            },
            "type": "table"
           }
          ]
         },
         "layout": {
          "annotationdefaults": {
           "arrowcolor": "#2a3f5f",
           "arrowhead": 0,
           "arrowwidth": 1
          },
          "autotypenumbers": "strict",
          "coloraxis": {
           "colorbar": {
            "outlinewidth": 0,
            "ticks": ""
           }
          },
          "colorscale": {
           "diverging": [
            [
             0,
             "#8e0152"
            ],
            [
             0.1,
             "#c51b7d"
            ],
            [
             0.2,
             "#de77ae"
            ],
            [
             0.3,
             "#f1b6da"
            ],
            [
             0.4,
             "#fde0ef"
            ],
            [
             0.5,
             "#f7f7f7"
            ],
            [
             0.6,
             "#e6f5d0"
            ],
            [
             0.7,
             "#b8e186"
            ],
            [
             0.8,
             "#7fbc41"
            ],
            [
             0.9,
             "#4d9221"
            ],
            [
             1,
             "#276419"
            ]
           ],
           "sequential": [
            [
             0,
             "#0d0887"
            ],
            [
             0.1111111111111111,
             "#46039f"
            ],
            [
             0.2222222222222222,
             "#7201a8"
            ],
            [
             0.3333333333333333,
             "#9c179e"
            ],
            [
             0.4444444444444444,
             "#bd3786"
            ],
            [
             0.5555555555555556,
             "#d8576b"
            ],
            [
             0.6666666666666666,
             "#ed7953"
            ],
            [
             0.7777777777777778,
             "#fb9f3a"
            ],
            [
             0.8888888888888888,
             "#fdca26"
            ],
            [
             1,
             "#f0f921"
            ]
           ],
           "sequentialminus": [
            [
             0,
             "#0d0887"
            ],
            [
             0.1111111111111111,
             "#46039f"
            ],
            [
             0.2222222222222222,
             "#7201a8"
            ],
            [
             0.3333333333333333,
             "#9c179e"
            ],
            [
             0.4444444444444444,
             "#bd3786"
            ],
            [
             0.5555555555555556,
             "#d8576b"
            ],
            [
             0.6666666666666666,
             "#ed7953"
            ],
            [
             0.7777777777777778,
             "#fb9f3a"
            ],
            [
             0.8888888888888888,
             "#fdca26"
            ],
            [
             1,
             "#f0f921"
            ]
           ]
          },
          "colorway": [
           "#636efa",
           "#EF553B",
           "#00cc96",
           "#ab63fa",
           "#FFA15A",
           "#19d3f3",
           "#FF6692",
           "#B6E880",
           "#FF97FF",
           "#FECB52"
          ],
          "font": {
           "color": "#2a3f5f"
          },
          "geo": {
           "bgcolor": "white",
           "lakecolor": "white",
           "landcolor": "#E5ECF6",
           "showlakes": true,
           "showland": true,
           "subunitcolor": "white"
          },
          "hoverlabel": {
           "align": "left"
          },
          "hovermode": "closest",
          "mapbox": {
           "style": "light"
          },
          "paper_bgcolor": "white",
          "plot_bgcolor": "#E5ECF6",
          "polar": {
           "angularaxis": {
            "gridcolor": "white",
            "linecolor": "white",
            "ticks": ""
           },
           "bgcolor": "#E5ECF6",
           "radialaxis": {
            "gridcolor": "white",
            "linecolor": "white",
            "ticks": ""
           }
          },
          "scene": {
           "xaxis": {
            "backgroundcolor": "#E5ECF6",
            "gridcolor": "white",
            "gridwidth": 2,
            "linecolor": "white",
            "showbackground": true,
            "ticks": "",
            "zerolinecolor": "white"
           },
           "yaxis": {
            "backgroundcolor": "#E5ECF6",
            "gridcolor": "white",
            "gridwidth": 2,
            "linecolor": "white",
            "showbackground": true,
            "ticks": "",
            "zerolinecolor": "white"
           },
           "zaxis": {
            "backgroundcolor": "#E5ECF6",
            "gridcolor": "white",
            "gridwidth": 2,
            "linecolor": "white",
            "showbackground": true,
            "ticks": "",
            "zerolinecolor": "white"
           }
          },
          "shapedefaults": {
           "line": {
            "color": "#2a3f5f"
           }
          },
          "ternary": {
           "aaxis": {
            "gridcolor": "white",
            "linecolor": "white",
            "ticks": ""
           },
           "baxis": {
            "gridcolor": "white",
            "linecolor": "white",
            "ticks": ""
           },
           "bgcolor": "#E5ECF6",
           "caxis": {
            "gridcolor": "white",
            "linecolor": "white",
            "ticks": ""
           }
          },
          "title": {
           "x": 0.05
          },
          "xaxis": {
           "automargin": true,
           "gridcolor": "white",
           "linecolor": "white",
           "ticks": "",
           "title": {
            "standoff": 15
           },
           "zerolinecolor": "white",
           "zerolinewidth": 2
          },
          "yaxis": {
           "automargin": true,
           "gridcolor": "white",
           "linecolor": "white",
           "ticks": "",
           "title": {
            "standoff": 15
           },
           "zerolinecolor": "white",
           "zerolinewidth": 2
          }
         }
        }
       }
      }
     },
     "metadata": {},
     "output_type": "display_data"
    }
   ],
   "source": [
    "corr_matrix = user_features.corr()\n",
    "\n",
    "fig = pgo.Figure(data=pgo.Heatmap(\n",
    "    z=corr_matrix.values,  \n",
    "    x=corr_matrix.columns, \n",
    "    y=corr_matrix.index,   \n",
    "    colorscale='Viridis',\n",
    "))\n",
    "\n",
    "fig.show()"
   ]
  },
  {
   "cell_type": "code",
   "execution_count": 19,
   "metadata": {},
   "outputs": [],
   "source": [
    "user_features.to_csv('../data/processed/user_features_v1.csv')"
   ]
  }
 ],
 "metadata": {
  "kernelspec": {
   "display_name": ".venv",
   "language": "python",
   "name": "python3"
  },
  "language_info": {
   "codemirror_mode": {
    "name": "ipython",
    "version": 3
   },
   "file_extension": ".py",
   "mimetype": "text/x-python",
   "name": "python",
   "nbconvert_exporter": "python",
   "pygments_lexer": "ipython3",
   "version": "3.12.3"
  }
 },
 "nbformat": 4,
 "nbformat_minor": 2
}
