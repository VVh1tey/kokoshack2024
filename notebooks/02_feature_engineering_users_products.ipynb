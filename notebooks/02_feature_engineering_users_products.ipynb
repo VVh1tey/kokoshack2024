{
 "cells": [
  {
   "cell_type": "code",
   "execution_count": 1,
   "metadata": {},
   "outputs": [],
   "source": [
    "import numpy as np\n",
    "import pandas as pd\n",
    "\n",
    "import matplotlib.pyplot as plt\n",
    "import seaborn as sns\n",
    "import plotly.express as px\n",
    "import plotly.graph_objects as pgo\n",
    "\n",
    "from datetime import timedelta"
   ]
  },
  {
   "cell_type": "code",
   "execution_count": 2,
   "metadata": {},
   "outputs": [],
   "source": [
    "train_actions = pd.read_parquet('../data/raw/train_actions.pq', engine='pyarrow')\n",
    "stokman_catalog = pd.read_parquet('../data/raw/stokman_catalog_preprocessed.pq', engine = 'pyarrow')\n",
    "catalog_vector_map = pd.read_parquet('../data/raw/catalog_vector_mapping.pq')\n",
    "npz = np.load('../data/raw/vectors.npz')"
   ]
  },
  {
   "cell_type": "code",
   "execution_count": 3,
   "metadata": {},
   "outputs": [
    {
     "data": {
      "text/html": [
       "<div>\n",
       "<style scoped>\n",
       "    .dataframe tbody tr th:only-of-type {\n",
       "        vertical-align: middle;\n",
       "    }\n",
       "\n",
       "    .dataframe tbody tr th {\n",
       "        vertical-align: top;\n",
       "    }\n",
       "\n",
       "    .dataframe thead th {\n",
       "        text-align: right;\n",
       "    }\n",
       "</style>\n",
       "<table border=\"1\" class=\"dataframe\">\n",
       "  <thead>\n",
       "    <tr style=\"text-align: right;\">\n",
       "      <th></th>\n",
       "      <th>0</th>\n",
       "      <th>1</th>\n",
       "      <th>2</th>\n",
       "      <th>3</th>\n",
       "      <th>4</th>\n",
       "      <th>5</th>\n",
       "      <th>6</th>\n",
       "      <th>7</th>\n",
       "      <th>8</th>\n",
       "      <th>9</th>\n",
       "      <th>...</th>\n",
       "      <th>374</th>\n",
       "      <th>375</th>\n",
       "      <th>376</th>\n",
       "      <th>377</th>\n",
       "      <th>378</th>\n",
       "      <th>379</th>\n",
       "      <th>380</th>\n",
       "      <th>381</th>\n",
       "      <th>382</th>\n",
       "      <th>383</th>\n",
       "    </tr>\n",
       "  </thead>\n",
       "  <tbody>\n",
       "    <tr>\n",
       "      <th>0</th>\n",
       "      <td>-0.083243</td>\n",
       "      <td>0.048154</td>\n",
       "      <td>0.021908</td>\n",
       "      <td>0.046554</td>\n",
       "      <td>0.016020</td>\n",
       "      <td>0.017390</td>\n",
       "      <td>0.068655</td>\n",
       "      <td>0.003578</td>\n",
       "      <td>-0.101042</td>\n",
       "      <td>0.001614</td>\n",
       "      <td>...</td>\n",
       "      <td>-0.054967</td>\n",
       "      <td>-0.026560</td>\n",
       "      <td>-0.024370</td>\n",
       "      <td>-0.017317</td>\n",
       "      <td>-0.063028</td>\n",
       "      <td>-0.019044</td>\n",
       "      <td>-0.052011</td>\n",
       "      <td>-0.101291</td>\n",
       "      <td>0.106851</td>\n",
       "      <td>0.016866</td>\n",
       "    </tr>\n",
       "    <tr>\n",
       "      <th>1</th>\n",
       "      <td>-0.029639</td>\n",
       "      <td>0.046028</td>\n",
       "      <td>0.021950</td>\n",
       "      <td>0.022532</td>\n",
       "      <td>-0.110691</td>\n",
       "      <td>-0.053836</td>\n",
       "      <td>0.057446</td>\n",
       "      <td>0.030473</td>\n",
       "      <td>-0.027846</td>\n",
       "      <td>-0.031509</td>\n",
       "      <td>...</td>\n",
       "      <td>-0.030721</td>\n",
       "      <td>-0.021226</td>\n",
       "      <td>0.032937</td>\n",
       "      <td>0.052792</td>\n",
       "      <td>0.017208</td>\n",
       "      <td>0.001812</td>\n",
       "      <td>0.013390</td>\n",
       "      <td>0.001876</td>\n",
       "      <td>0.078863</td>\n",
       "      <td>-0.012866</td>\n",
       "    </tr>\n",
       "    <tr>\n",
       "      <th>2</th>\n",
       "      <td>-0.021771</td>\n",
       "      <td>0.093553</td>\n",
       "      <td>-0.050793</td>\n",
       "      <td>-0.000166</td>\n",
       "      <td>0.049989</td>\n",
       "      <td>0.075398</td>\n",
       "      <td>0.039691</td>\n",
       "      <td>-0.007549</td>\n",
       "      <td>-0.023111</td>\n",
       "      <td>-0.061027</td>\n",
       "      <td>...</td>\n",
       "      <td>-0.120556</td>\n",
       "      <td>-0.007603</td>\n",
       "      <td>-0.057520</td>\n",
       "      <td>0.018594</td>\n",
       "      <td>-0.047227</td>\n",
       "      <td>-0.030704</td>\n",
       "      <td>-0.002737</td>\n",
       "      <td>-0.181192</td>\n",
       "      <td>-0.027767</td>\n",
       "      <td>0.057662</td>\n",
       "    </tr>\n",
       "    <tr>\n",
       "      <th>3</th>\n",
       "      <td>-0.010277</td>\n",
       "      <td>0.072384</td>\n",
       "      <td>0.014594</td>\n",
       "      <td>0.097766</td>\n",
       "      <td>0.000443</td>\n",
       "      <td>-0.059049</td>\n",
       "      <td>0.039525</td>\n",
       "      <td>0.008496</td>\n",
       "      <td>-0.037287</td>\n",
       "      <td>-0.064468</td>\n",
       "      <td>...</td>\n",
       "      <td>-0.126487</td>\n",
       "      <td>0.015420</td>\n",
       "      <td>-0.012856</td>\n",
       "      <td>-0.025929</td>\n",
       "      <td>-0.033612</td>\n",
       "      <td>0.076626</td>\n",
       "      <td>0.127795</td>\n",
       "      <td>-0.148789</td>\n",
       "      <td>0.051517</td>\n",
       "      <td>0.061379</td>\n",
       "    </tr>\n",
       "    <tr>\n",
       "      <th>4</th>\n",
       "      <td>-0.012528</td>\n",
       "      <td>-0.019212</td>\n",
       "      <td>0.047336</td>\n",
       "      <td>0.084923</td>\n",
       "      <td>0.005401</td>\n",
       "      <td>0.029530</td>\n",
       "      <td>-0.033076</td>\n",
       "      <td>-0.002323</td>\n",
       "      <td>-0.042567</td>\n",
       "      <td>-0.027429</td>\n",
       "      <td>...</td>\n",
       "      <td>-0.091939</td>\n",
       "      <td>0.005534</td>\n",
       "      <td>0.009784</td>\n",
       "      <td>-0.035835</td>\n",
       "      <td>0.001122</td>\n",
       "      <td>0.054081</td>\n",
       "      <td>-0.015952</td>\n",
       "      <td>-0.100471</td>\n",
       "      <td>0.075144</td>\n",
       "      <td>0.016150</td>\n",
       "    </tr>\n",
       "  </tbody>\n",
       "</table>\n",
       "<p>5 rows × 384 columns</p>\n",
       "</div>"
      ],
      "text/plain": [
       "        0         1         2         3         4         5         6    \\\n",
       "0 -0.083243  0.048154  0.021908  0.046554  0.016020  0.017390  0.068655   \n",
       "1 -0.029639  0.046028  0.021950  0.022532 -0.110691 -0.053836  0.057446   \n",
       "2 -0.021771  0.093553 -0.050793 -0.000166  0.049989  0.075398  0.039691   \n",
       "3 -0.010277  0.072384  0.014594  0.097766  0.000443 -0.059049  0.039525   \n",
       "4 -0.012528 -0.019212  0.047336  0.084923  0.005401  0.029530 -0.033076   \n",
       "\n",
       "        7         8         9    ...       374       375       376       377  \\\n",
       "0  0.003578 -0.101042  0.001614  ... -0.054967 -0.026560 -0.024370 -0.017317   \n",
       "1  0.030473 -0.027846 -0.031509  ... -0.030721 -0.021226  0.032937  0.052792   \n",
       "2 -0.007549 -0.023111 -0.061027  ... -0.120556 -0.007603 -0.057520  0.018594   \n",
       "3  0.008496 -0.037287 -0.064468  ... -0.126487  0.015420 -0.012856 -0.025929   \n",
       "4 -0.002323 -0.042567 -0.027429  ... -0.091939  0.005534  0.009784 -0.035835   \n",
       "\n",
       "        378       379       380       381       382       383  \n",
       "0 -0.063028 -0.019044 -0.052011 -0.101291  0.106851  0.016866  \n",
       "1  0.017208  0.001812  0.013390  0.001876  0.078863 -0.012866  \n",
       "2 -0.047227 -0.030704 -0.002737 -0.181192 -0.027767  0.057662  \n",
       "3 -0.033612  0.076626  0.127795 -0.148789  0.051517  0.061379  \n",
       "4  0.001122  0.054081 -0.015952 -0.100471  0.075144  0.016150  \n",
       "\n",
       "[5 rows x 384 columns]"
      ]
     },
     "execution_count": 3,
     "metadata": {},
     "output_type": "execute_result"
    }
   ],
   "source": [
    "vectors_df = pd.DataFrame(npz['arr_0'])\n",
    "vectors_df.head()"
   ]
  },
  {
   "cell_type": "code",
   "execution_count": 4,
   "metadata": {},
   "outputs": [
    {
     "name": "stdout",
     "output_type": "stream",
     "text": [
      "min_date = 2024-09-07 00:00:04, max_date = 2024-09-28 23:59:59\n"
     ]
    }
   ],
   "source": [
    "dates = pd.to_datetime(train_actions.date)\n",
    "print(f'min_date = {min(dates)}, max_date = {max(dates)}')"
   ]
  },
  {
   "cell_type": "markdown",
   "metadata": {},
   "source": [
    "Минимальный препроцессинг:"
   ]
  },
  {
   "cell_type": "code",
   "execution_count": 5,
   "metadata": {},
   "outputs": [],
   "source": [
    "train_actions_processed = train_actions.copy()\n",
    "train_actions_processed.date = pd.to_datetime(train_actions_processed.date)\n",
    "train_actions_processed = train_actions_processed.explode('products')\n",
    "train_actions_processed.products = train_actions_processed.products.fillna(0)\n",
    "train_actions_processed.products = train_actions_processed.products.astype(int)\n",
    "train_actions_processed.rename({'products': 'productId'}, axis=1, inplace=True)"
   ]
  },
  {
   "cell_type": "code",
   "execution_count": 6,
   "metadata": {},
   "outputs": [
    {
     "name": "stdout",
     "output_type": "stream",
     "text": [
      "<class 'pandas.core.frame.DataFrame'>\n",
      "RangeIndex: 89483 entries, 0 to 89482\n",
      "Data columns (total 7 columns):\n",
      " #   Column       Non-Null Count  Dtype         \n",
      "---  ------       --------------  -----         \n",
      " 0   add_date     89483 non-null  datetime64[us]\n",
      " 1   shop_id      89483 non-null  object        \n",
      " 2   product_id   89483 non-null  object        \n",
      " 3   category_id  89483 non-null  object        \n",
      " 4   price        89483 non-null  int32         \n",
      " 5   title        89483 non-null  object        \n",
      " 6   old_price    89483 non-null  int32         \n",
      "dtypes: datetime64[us](1), int32(2), object(4)\n",
      "memory usage: 4.1+ MB\n"
     ]
    }
   ],
   "source": [
    "stokman_catalog_processed = stokman_catalog.copy()\n",
    "stokman_catalog_processed.info()"
   ]
  },
  {
   "cell_type": "code",
   "execution_count": 7,
   "metadata": {},
   "outputs": [
    {
     "name": "stdout",
     "output_type": "stream",
     "text": [
      "<class 'pandas.core.frame.DataFrame'>\n",
      "RangeIndex: 89483 entries, 0 to 89482\n",
      "Data columns (total 7 columns):\n",
      " #   Column       Non-Null Count  Dtype         \n",
      "---  ------       --------------  -----         \n",
      " 0   add_date     89483 non-null  datetime64[us]\n",
      " 1   shop_id      89483 non-null  int64         \n",
      " 2   product_id   89483 non-null  int64         \n",
      " 3   category_id  89483 non-null  int64         \n",
      " 4   price        89483 non-null  int32         \n",
      " 5   title        89483 non-null  object        \n",
      " 6   old_price    89483 non-null  int32         \n",
      "dtypes: datetime64[us](1), int32(2), int64(3), object(1)\n",
      "memory usage: 4.1+ MB\n"
     ]
    }
   ],
   "source": [
    "stokman_catalog_processed.add_date = pd.to_datetime(stokman_catalog_processed.add_date)\n",
    "stokman_catalog_processed.shop_id = stokman_catalog_processed.shop_id.astype(int)\n",
    "stokman_catalog_processed.category_id = stokman_catalog_processed.category_id.astype(int)\n",
    "stokman_catalog_processed.product_id = stokman_catalog_processed.product_id.astype(int)\n",
    "stokman_catalog_processed.info()"
   ]
  },
  {
   "cell_type": "code",
   "execution_count": 9,
   "metadata": {},
   "outputs": [],
   "source": [
    "ACTIONS = {\n",
    "    0: 'view',\n",
    "    1: 'like',\n",
    "    2: 'addB',\n",
    "    3: 'delB',\n",
    "    4: 'clearB',\n",
    "    5: 'order',\n",
    "    6: 'listB',\n",
    "    7: 'visit',\n",
    "    8: 'visitCategory',\n",
    "    9: 'search'\n",
    "}"
   ]
  },
  {
   "cell_type": "code",
   "execution_count": 10,
   "metadata": {},
   "outputs": [],
   "source": [
    "products_features = stokman_catalog_processed.copy()\n",
    "\n",
    "# Добавление счетчиков для каждого действия\n",
    "for action_code, action_name in ACTIONS.items():\n",
    "    products_features[f'{action_name}_number'] = train_actions_processed[train_actions_processed['action'] == action_code].groupby('productId').size()\n",
    "\n",
    "# Дополнительные признаки\n",
    "products_features['price_difference'] = products_features['price'] - products_features['old_price']\n",
    "products_features['price_difference_percent'] = (products_features['price_difference'] / products_features['old_price']) * 100\n",
    "\n",
    "# Заполните пропущенные значения на 0 (если присутствуют нулевые значения в actions)\n",
    "products_features.fillna(0, inplace=True)"
   ]
  },
  {
   "cell_type": "code",
   "execution_count": 24,
   "metadata": {},
   "outputs": [
    {
     "data": {
      "text/plain": [
       "-19255"
      ]
     },
     "execution_count": 24,
     "metadata": {},
     "output_type": "execute_result"
    }
   ],
   "source": [
    "merged_data = pd.merge(\n",
    "    left=train_actions_processed[['date', 'productId', 'action']],\n",
    "    right=stokman_catalog_processed[['add_date', 'product_id']],\n",
    "    left_on='productId', \n",
    "    right_on='product_id', \n",
    "    how='left'\n",
    ").dropna()\n",
    "\n",
    "# 1. Вычисляем разницу во времени между date и add_date (в днях, например)\n",
    "merged_data['time_difference'] = (merged_data['date'] - merged_data['add_date']).dt.days\n",
    "\n",
    "\n",
    "result = merged_data.groupby(['productId', 'action']).agg(\n",
    "    min_time_difference=('time_difference', 'min'),\n",
    "    avg_time_difference=('time_difference', 'mean')\n",
    ").reset_index()\n",
    "\n",
    "result[(result.min_time_difference < 0) | (result.avg_time_difference < 0)].shape[0] - result.shape[0]"
   ]
  },
  {
   "cell_type": "code",
   "execution_count": 17,
   "metadata": {},
   "outputs": [
    {
     "data": {
      "text/plain": [
       "True"
      ]
     },
     "execution_count": 17,
     "metadata": {},
     "output_type": "execute_result"
    }
   ],
   "source": [
    "products_features.product_id.nunique() == products_features.shape[0]"
   ]
  },
  {
   "cell_type": "code",
   "execution_count": 14,
   "metadata": {},
   "outputs": [
    {
     "data": {
      "application/vnd.plotly.v1+json": {
       "config": {
        "plotlyServerURL": "https://plot.ly"
       },
       "data": [
        {
         "colorscale": [
          [
           0,
           "#440154"
          ],
          [
           0.1111111111111111,
           "#482878"
          ],
          [
           0.2222222222222222,
           "#3e4989"
          ],
          [
           0.3333333333333333,
           "#31688e"
          ],
          [
           0.4444444444444444,
           "#26828e"
          ],
          [
           0.5555555555555556,
           "#1f9e89"
          ],
          [
           0.6666666666666666,
           "#35b779"
          ],
          [
           0.7777777777777778,
           "#6ece58"
          ],
          [
           0.8888888888888888,
           "#b5de2b"
          ],
          [
           1,
           "#fde725"
          ]
         ],
         "type": "heatmap",
         "x": [
          "add_date",
          "shop_id",
          "product_id",
          "category_id",
          "price",
          "old_price",
          "view_number",
          "like_number",
          "addB_number",
          "delB_number",
          "clearB_number",
          "order_number",
          "listB_number",
          "visit_number",
          "visitCategory_number",
          "search_number",
          "price_difference",
          "price_difference_percent"
         ],
         "y": [
          "add_date",
          "shop_id",
          "product_id",
          "category_id",
          "price",
          "old_price",
          "view_number",
          "like_number",
          "addB_number",
          "delB_number",
          "clearB_number",
          "order_number",
          "listB_number",
          "visit_number",
          "visitCategory_number",
          "search_number",
          "price_difference",
          "price_difference_percent"
         ],
         "z": [
          [
           1,
           null,
           0.19262669665262525,
           0.1652148122294027,
           0.03773843438447093,
           0.034238334206742355,
           null,
           null,
           null,
           null,
           0.002000719344373624,
           null,
           null,
           0.002000719344373644,
           0.002000719344373671,
           0.002000719344373609,
           0.016657604668925373,
           0.1542692958879254
          ],
          [
           null,
           null,
           null,
           null,
           null,
           null,
           null,
           null,
           null,
           null,
           null,
           null,
           null,
           null,
           null,
           null,
           null,
           null
          ],
          [
           0.19262669665262525,
           null,
           1,
           0.32724017110905473,
           0.05694558566863692,
           0.03555401761821389,
           null,
           null,
           null,
           null,
           -0.005642779905642318,
           null,
           null,
           -0.005642779905642231,
           -0.005642779905642488,
           -0.005642779905642392,
           0.13591043048940726,
           0.2600223673937392
          ],
          [
           0.1652148122294027,
           null,
           0.32724017110905473,
           1,
           0.05687321319788042,
           0.03061964836349504,
           null,
           null,
           null,
           null,
           -9.197331242700857e-7,
           null,
           null,
           -9.197331243129185e-7,
           -9.197331242714476e-7,
           -9.197331242631447e-7,
           0.16935632759889843,
           0.3095708176476831
          ],
          [
           0.03773843438447093,
           null,
           0.05694558566863692,
           0.05687321319788042,
           1,
           0.9895337489744247,
           null,
           null,
           null,
           null,
           -0.0000044863157686253155,
           null,
           null,
           -0.000004486315768625907,
           -0.000004486315768626081,
           -0.000004486315768626156,
           -0.1243714524539706,
           0.050011623409609615
          ],
          [
           0.034238334206742355,
           null,
           0.03555401761821389,
           0.03061964836349504,
           0.9895337489744247,
           1,
           null,
           null,
           null,
           null,
           -0.0003261078298299436,
           null,
           null,
           -0.00032610782982994484,
           -0.0003261078298299484,
           -0.0003261078298299458,
           -0.2662509799627807,
           -0.029415793327398725
          ],
          [
           null,
           null,
           null,
           null,
           null,
           null,
           null,
           null,
           null,
           null,
           null,
           null,
           null,
           null,
           null,
           null,
           null,
           null
          ],
          [
           null,
           null,
           null,
           null,
           null,
           null,
           null,
           null,
           null,
           null,
           null,
           null,
           null,
           null,
           null,
           null,
           null,
           null
          ],
          [
           null,
           null,
           null,
           null,
           null,
           null,
           null,
           null,
           null,
           null,
           null,
           null,
           null,
           null,
           null,
           null,
           null,
           null
          ],
          [
           null,
           null,
           null,
           null,
           null,
           null,
           null,
           null,
           null,
           null,
           null,
           null,
           null,
           null,
           null,
           null,
           null,
           null
          ],
          [
           0.002000719344373624,
           null,
           -0.005642779905642318,
           -9.197331242700857e-7,
           -0.0000044863157686253155,
           -0.0003261078298299436,
           null,
           null,
           null,
           null,
           1,
           null,
           null,
           0.999999999999987,
           1.0000000000000022,
           0.9999999999999843,
           0.0022123899064109553,
           0.004063442337636641
          ],
          [
           null,
           null,
           null,
           null,
           null,
           null,
           null,
           null,
           null,
           null,
           null,
           null,
           null,
           null,
           null,
           null,
           null,
           null
          ],
          [
           null,
           null,
           null,
           null,
           null,
           null,
           null,
           null,
           null,
           null,
           null,
           null,
           null,
           null,
           null,
           null,
           null,
           null
          ],
          [
           0.002000719344373644,
           null,
           -0.005642779905642231,
           -9.197331243129185e-7,
           -0.000004486315768625907,
           -0.00032610782982994484,
           null,
           null,
           null,
           null,
           0.999999999999987,
           null,
           null,
           1,
           1.0000000000000073,
           0.9999999999999861,
           0.0022123899064108855,
           0.004063442337636426
          ],
          [
           0.002000719344373671,
           null,
           -0.005642779905642488,
           -9.197331242714476e-7,
           -0.000004486315768626081,
           -0.0003261078298299484,
           null,
           null,
           null,
           null,
           1.0000000000000022,
           null,
           null,
           1.0000000000000073,
           1,
           1.0000000000000056,
           0.0022123899064109644,
           0.0040634423376365945
          ],
          [
           0.002000719344373609,
           null,
           -0.005642779905642392,
           -9.197331242631447e-7,
           -0.000004486315768626156,
           -0.0003261078298299458,
           null,
           null,
           null,
           null,
           0.9999999999999843,
           null,
           null,
           0.9999999999999861,
           1.0000000000000056,
           1,
           0.002212389906410899,
           0.004063442337636576
          ],
          [
           0.016657604668925373,
           null,
           0.13591043048940726,
           0.16935632759889843,
           -0.1243714524539706,
           -0.2662509799627807,
           null,
           null,
           null,
           null,
           0.0022123899064109553,
           null,
           null,
           0.0022123899064108855,
           0.0022123899064109644,
           0.002212389906410899,
           1,
           0.5363334656759581
          ],
          [
           0.1542692958879254,
           null,
           0.2600223673937392,
           0.3095708176476831,
           0.050011623409609615,
           -0.029415793327398725,
           null,
           null,
           null,
           null,
           0.004063442337636641,
           null,
           null,
           0.004063442337636426,
           0.0040634423376365945,
           0.004063442337636576,
           0.5363334656759581,
           1
          ]
         ]
        }
       ],
       "layout": {
        "template": {
         "data": {
          "bar": [
           {
            "error_x": {
             "color": "#2a3f5f"
            },
            "error_y": {
             "color": "#2a3f5f"
            },
            "marker": {
             "line": {
              "color": "#E5ECF6",
              "width": 0.5
             },
             "pattern": {
              "fillmode": "overlay",
              "size": 10,
              "solidity": 0.2
             }
            },
            "type": "bar"
           }
          ],
          "barpolar": [
           {
            "marker": {
             "line": {
              "color": "#E5ECF6",
              "width": 0.5
             },
             "pattern": {
              "fillmode": "overlay",
              "size": 10,
              "solidity": 0.2
             }
            },
            "type": "barpolar"
           }
          ],
          "carpet": [
           {
            "aaxis": {
             "endlinecolor": "#2a3f5f",
             "gridcolor": "white",
             "linecolor": "white",
             "minorgridcolor": "white",
             "startlinecolor": "#2a3f5f"
            },
            "baxis": {
             "endlinecolor": "#2a3f5f",
             "gridcolor": "white",
             "linecolor": "white",
             "minorgridcolor": "white",
             "startlinecolor": "#2a3f5f"
            },
            "type": "carpet"
           }
          ],
          "choropleth": [
           {
            "colorbar": {
             "outlinewidth": 0,
             "ticks": ""
            },
            "type": "choropleth"
           }
          ],
          "contour": [
           {
            "colorbar": {
             "outlinewidth": 0,
             "ticks": ""
            },
            "colorscale": [
             [
              0,
              "#0d0887"
             ],
             [
              0.1111111111111111,
              "#46039f"
             ],
             [
              0.2222222222222222,
              "#7201a8"
             ],
             [
              0.3333333333333333,
              "#9c179e"
             ],
             [
              0.4444444444444444,
              "#bd3786"
             ],
             [
              0.5555555555555556,
              "#d8576b"
             ],
             [
              0.6666666666666666,
              "#ed7953"
             ],
             [
              0.7777777777777778,
              "#fb9f3a"
             ],
             [
              0.8888888888888888,
              "#fdca26"
             ],
             [
              1,
              "#f0f921"
             ]
            ],
            "type": "contour"
           }
          ],
          "contourcarpet": [
           {
            "colorbar": {
             "outlinewidth": 0,
             "ticks": ""
            },
            "type": "contourcarpet"
           }
          ],
          "heatmap": [
           {
            "colorbar": {
             "outlinewidth": 0,
             "ticks": ""
            },
            "colorscale": [
             [
              0,
              "#0d0887"
             ],
             [
              0.1111111111111111,
              "#46039f"
             ],
             [
              0.2222222222222222,
              "#7201a8"
             ],
             [
              0.3333333333333333,
              "#9c179e"
             ],
             [
              0.4444444444444444,
              "#bd3786"
             ],
             [
              0.5555555555555556,
              "#d8576b"
             ],
             [
              0.6666666666666666,
              "#ed7953"
             ],
             [
              0.7777777777777778,
              "#fb9f3a"
             ],
             [
              0.8888888888888888,
              "#fdca26"
             ],
             [
              1,
              "#f0f921"
             ]
            ],
            "type": "heatmap"
           }
          ],
          "heatmapgl": [
           {
            "colorbar": {
             "outlinewidth": 0,
             "ticks": ""
            },
            "colorscale": [
             [
              0,
              "#0d0887"
             ],
             [
              0.1111111111111111,
              "#46039f"
             ],
             [
              0.2222222222222222,
              "#7201a8"
             ],
             [
              0.3333333333333333,
              "#9c179e"
             ],
             [
              0.4444444444444444,
              "#bd3786"
             ],
             [
              0.5555555555555556,
              "#d8576b"
             ],
             [
              0.6666666666666666,
              "#ed7953"
             ],
             [
              0.7777777777777778,
              "#fb9f3a"
             ],
             [
              0.8888888888888888,
              "#fdca26"
             ],
             [
              1,
              "#f0f921"
             ]
            ],
            "type": "heatmapgl"
           }
          ],
          "histogram": [
           {
            "marker": {
             "pattern": {
              "fillmode": "overlay",
              "size": 10,
              "solidity": 0.2
             }
            },
            "type": "histogram"
           }
          ],
          "histogram2d": [
           {
            "colorbar": {
             "outlinewidth": 0,
             "ticks": ""
            },
            "colorscale": [
             [
              0,
              "#0d0887"
             ],
             [
              0.1111111111111111,
              "#46039f"
             ],
             [
              0.2222222222222222,
              "#7201a8"
             ],
             [
              0.3333333333333333,
              "#9c179e"
             ],
             [
              0.4444444444444444,
              "#bd3786"
             ],
             [
              0.5555555555555556,
              "#d8576b"
             ],
             [
              0.6666666666666666,
              "#ed7953"
             ],
             [
              0.7777777777777778,
              "#fb9f3a"
             ],
             [
              0.8888888888888888,
              "#fdca26"
             ],
             [
              1,
              "#f0f921"
             ]
            ],
            "type": "histogram2d"
           }
          ],
          "histogram2dcontour": [
           {
            "colorbar": {
             "outlinewidth": 0,
             "ticks": ""
            },
            "colorscale": [
             [
              0,
              "#0d0887"
             ],
             [
              0.1111111111111111,
              "#46039f"
             ],
             [
              0.2222222222222222,
              "#7201a8"
             ],
             [
              0.3333333333333333,
              "#9c179e"
             ],
             [
              0.4444444444444444,
              "#bd3786"
             ],
             [
              0.5555555555555556,
              "#d8576b"
             ],
             [
              0.6666666666666666,
              "#ed7953"
             ],
             [
              0.7777777777777778,
              "#fb9f3a"
             ],
             [
              0.8888888888888888,
              "#fdca26"
             ],
             [
              1,
              "#f0f921"
             ]
            ],
            "type": "histogram2dcontour"
           }
          ],
          "mesh3d": [
           {
            "colorbar": {
             "outlinewidth": 0,
             "ticks": ""
            },
            "type": "mesh3d"
           }
          ],
          "parcoords": [
           {
            "line": {
             "colorbar": {
              "outlinewidth": 0,
              "ticks": ""
             }
            },
            "type": "parcoords"
           }
          ],
          "pie": [
           {
            "automargin": true,
            "type": "pie"
           }
          ],
          "scatter": [
           {
            "fillpattern": {
             "fillmode": "overlay",
             "size": 10,
             "solidity": 0.2
            },
            "type": "scatter"
           }
          ],
          "scatter3d": [
           {
            "line": {
             "colorbar": {
              "outlinewidth": 0,
              "ticks": ""
             }
            },
            "marker": {
             "colorbar": {
              "outlinewidth": 0,
              "ticks": ""
             }
            },
            "type": "scatter3d"
           }
          ],
          "scattercarpet": [
           {
            "marker": {
             "colorbar": {
              "outlinewidth": 0,
              "ticks": ""
             }
            },
            "type": "scattercarpet"
           }
          ],
          "scattergeo": [
           {
            "marker": {
             "colorbar": {
              "outlinewidth": 0,
              "ticks": ""
             }
            },
            "type": "scattergeo"
           }
          ],
          "scattergl": [
           {
            "marker": {
             "colorbar": {
              "outlinewidth": 0,
              "ticks": ""
             }
            },
            "type": "scattergl"
           }
          ],
          "scattermapbox": [
           {
            "marker": {
             "colorbar": {
              "outlinewidth": 0,
              "ticks": ""
             }
            },
            "type": "scattermapbox"
           }
          ],
          "scatterpolar": [
           {
            "marker": {
             "colorbar": {
              "outlinewidth": 0,
              "ticks": ""
             }
            },
            "type": "scatterpolar"
           }
          ],
          "scatterpolargl": [
           {
            "marker": {
             "colorbar": {
              "outlinewidth": 0,
              "ticks": ""
             }
            },
            "type": "scatterpolargl"
           }
          ],
          "scatterternary": [
           {
            "marker": {
             "colorbar": {
              "outlinewidth": 0,
              "ticks": ""
             }
            },
            "type": "scatterternary"
           }
          ],
          "surface": [
           {
            "colorbar": {
             "outlinewidth": 0,
             "ticks": ""
            },
            "colorscale": [
             [
              0,
              "#0d0887"
             ],
             [
              0.1111111111111111,
              "#46039f"
             ],
             [
              0.2222222222222222,
              "#7201a8"
             ],
             [
              0.3333333333333333,
              "#9c179e"
             ],
             [
              0.4444444444444444,
              "#bd3786"
             ],
             [
              0.5555555555555556,
              "#d8576b"
             ],
             [
              0.6666666666666666,
              "#ed7953"
             ],
             [
              0.7777777777777778,
              "#fb9f3a"
             ],
             [
              0.8888888888888888,
              "#fdca26"
             ],
             [
              1,
              "#f0f921"
             ]
            ],
            "type": "surface"
           }
          ],
          "table": [
           {
            "cells": {
             "fill": {
              "color": "#EBF0F8"
             },
             "line": {
              "color": "white"
             }
            },
            "header": {
             "fill": {
              "color": "#C8D4E3"
             },
             "line": {
              "color": "white"
             }
            },
            "type": "table"
           }
          ]
         },
         "layout": {
          "annotationdefaults": {
           "arrowcolor": "#2a3f5f",
           "arrowhead": 0,
           "arrowwidth": 1
          },
          "autotypenumbers": "strict",
          "coloraxis": {
           "colorbar": {
            "outlinewidth": 0,
            "ticks": ""
           }
          },
          "colorscale": {
           "diverging": [
            [
             0,
             "#8e0152"
            ],
            [
             0.1,
             "#c51b7d"
            ],
            [
             0.2,
             "#de77ae"
            ],
            [
             0.3,
             "#f1b6da"
            ],
            [
             0.4,
             "#fde0ef"
            ],
            [
             0.5,
             "#f7f7f7"
            ],
            [
             0.6,
             "#e6f5d0"
            ],
            [
             0.7,
             "#b8e186"
            ],
            [
             0.8,
             "#7fbc41"
            ],
            [
             0.9,
             "#4d9221"
            ],
            [
             1,
             "#276419"
            ]
           ],
           "sequential": [
            [
             0,
             "#0d0887"
            ],
            [
             0.1111111111111111,
             "#46039f"
            ],
            [
             0.2222222222222222,
             "#7201a8"
            ],
            [
             0.3333333333333333,
             "#9c179e"
            ],
            [
             0.4444444444444444,
             "#bd3786"
            ],
            [
             0.5555555555555556,
             "#d8576b"
            ],
            [
             0.6666666666666666,
             "#ed7953"
            ],
            [
             0.7777777777777778,
             "#fb9f3a"
            ],
            [
             0.8888888888888888,
             "#fdca26"
            ],
            [
             1,
             "#f0f921"
            ]
           ],
           "sequentialminus": [
            [
             0,
             "#0d0887"
            ],
            [
             0.1111111111111111,
             "#46039f"
            ],
            [
             0.2222222222222222,
             "#7201a8"
            ],
            [
             0.3333333333333333,
             "#9c179e"
            ],
            [
             0.4444444444444444,
             "#bd3786"
            ],
            [
             0.5555555555555556,
             "#d8576b"
            ],
            [
             0.6666666666666666,
             "#ed7953"
            ],
            [
             0.7777777777777778,
             "#fb9f3a"
            ],
            [
             0.8888888888888888,
             "#fdca26"
            ],
            [
             1,
             "#f0f921"
            ]
           ]
          },
          "colorway": [
           "#636efa",
           "#EF553B",
           "#00cc96",
           "#ab63fa",
           "#FFA15A",
           "#19d3f3",
           "#FF6692",
           "#B6E880",
           "#FF97FF",
           "#FECB52"
          ],
          "font": {
           "color": "#2a3f5f"
          },
          "geo": {
           "bgcolor": "white",
           "lakecolor": "white",
           "landcolor": "#E5ECF6",
           "showlakes": true,
           "showland": true,
           "subunitcolor": "white"
          },
          "hoverlabel": {
           "align": "left"
          },
          "hovermode": "closest",
          "mapbox": {
           "style": "light"
          },
          "paper_bgcolor": "white",
          "plot_bgcolor": "#E5ECF6",
          "polar": {
           "angularaxis": {
            "gridcolor": "white",
            "linecolor": "white",
            "ticks": ""
           },
           "bgcolor": "#E5ECF6",
           "radialaxis": {
            "gridcolor": "white",
            "linecolor": "white",
            "ticks": ""
           }
          },
          "scene": {
           "xaxis": {
            "backgroundcolor": "#E5ECF6",
            "gridcolor": "white",
            "gridwidth": 2,
            "linecolor": "white",
            "showbackground": true,
            "ticks": "",
            "zerolinecolor": "white"
           },
           "yaxis": {
            "backgroundcolor": "#E5ECF6",
            "gridcolor": "white",
            "gridwidth": 2,
            "linecolor": "white",
            "showbackground": true,
            "ticks": "",
            "zerolinecolor": "white"
           },
           "zaxis": {
            "backgroundcolor": "#E5ECF6",
            "gridcolor": "white",
            "gridwidth": 2,
            "linecolor": "white",
            "showbackground": true,
            "ticks": "",
            "zerolinecolor": "white"
           }
          },
          "shapedefaults": {
           "line": {
            "color": "#2a3f5f"
           }
          },
          "ternary": {
           "aaxis": {
            "gridcolor": "white",
            "linecolor": "white",
            "ticks": ""
           },
           "baxis": {
            "gridcolor": "white",
            "linecolor": "white",
            "ticks": ""
           },
           "bgcolor": "#E5ECF6",
           "caxis": {
            "gridcolor": "white",
            "linecolor": "white",
            "ticks": ""
           }
          },
          "title": {
           "x": 0.05
          },
          "xaxis": {
           "automargin": true,
           "gridcolor": "white",
           "linecolor": "white",
           "ticks": "",
           "title": {
            "standoff": 15
           },
           "zerolinecolor": "white",
           "zerolinewidth": 2
          },
          "yaxis": {
           "automargin": true,
           "gridcolor": "white",
           "linecolor": "white",
           "ticks": "",
           "title": {
            "standoff": 15
           },
           "zerolinecolor": "white",
           "zerolinewidth": 2
          }
         }
        }
       }
      }
     },
     "metadata": {},
     "output_type": "display_data"
    }
   ],
   "source": [
    "corr_matrix = products_features.drop('title', axis=1).corr()\n",
    "\n",
    "fig = pgo.Figure(data=pgo.Heatmap(\n",
    "    z=corr_matrix.values,  \n",
    "    x=corr_matrix.columns, \n",
    "    y=corr_matrix.index,   \n",
    "    colorscale='Viridis',\n",
    "))\n",
    "\n",
    "fig.show()"
   ]
  }
 ],
 "metadata": {
  "kernelspec": {
   "display_name": ".venv",
   "language": "python",
   "name": "python3"
  },
  "language_info": {
   "codemirror_mode": {
    "name": "ipython",
    "version": 3
   },
   "file_extension": ".py",
   "mimetype": "text/x-python",
   "name": "python",
   "nbconvert_exporter": "python",
   "pygments_lexer": "ipython3",
   "version": "3.12.3"
  }
 },
 "nbformat": 4,
 "nbformat_minor": 2
}
