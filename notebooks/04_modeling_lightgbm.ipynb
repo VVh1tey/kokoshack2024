{
 "cells": [
  {
   "cell_type": "code",
   "execution_count": 2,
   "metadata": {},
   "outputs": [],
   "source": [
    "import pandas as pd\n",
    "import numpy as np\n",
    "\n",
    "import seaborn as sns\n",
    "import matplotlib.pyplot as plt\n",
    "\n",
    "from datetime import datetime, timedelta"
   ]
  },
  {
   "cell_type": "code",
   "execution_count": 3,
   "metadata": {},
   "outputs": [],
   "source": [
    "import pandas as pd\n",
    "from sklearn.model_selection import train_test_split\n",
    "import lightgbm as lgb\n",
    "\n",
    "import mlflow\n",
    "import mlflow.lightgbm"
   ]
  },
  {
   "cell_type": "code",
   "execution_count": 4,
   "metadata": {},
   "outputs": [],
   "source": [
    "def min_preprocessing(actions, catalog):\n",
    "    \n",
    "    actions.date = pd.to_datetime(actions.date)\n",
    "    actions = actions.explode('products')\n",
    "    actions.products = actions.products.fillna(0)\n",
    "    actions.products = actions.products.astype(int)\n",
    "    actions.rename({'products': 'productId'}, axis=1, inplace=True)\n",
    "\n",
    "    catalog.add_date = pd.to_datetime(catalog.add_date)\n",
    "    catalog.shop_id = catalog.shop_id.astype(int)\n",
    "    catalog.category_id = catalog.category_id.astype(int)\n",
    "    catalog.product_id = catalog.product_id.astype(int)\n",
    "    catalog.drop(['title'], axis=1, inplace=True)\n",
    "    \n",
    "    return actions, catalog"
   ]
  },
  {
   "cell_type": "code",
   "execution_count": 5,
   "metadata": {},
   "outputs": [],
   "source": [
    "train_actions = pd.read_parquet('../data/raw/train_actions.pq', engine='pyarrow')\n",
    "stokman_catalog = pd.read_parquet('../data/raw/stokman_catalog_preprocessed.pq', engine='pyarrow')"
   ]
  },
  {
   "cell_type": "code",
   "execution_count": 6,
   "metadata": {},
   "outputs": [],
   "source": [
    "actions, catalog = min_preprocessing(train_actions, stokman_catalog)\n",
    "del train_actions, stokman_catalog"
   ]
  },
  {
   "cell_type": "code",
   "execution_count": 7,
   "metadata": {},
   "outputs": [],
   "source": [
    "users_actions = actions.groupby('user_id').agg({'action':'count'}).sort_values(by='action', ascending=False)\n",
    "actions_cutted = actions[actions.user_id.isin(users_actions.sort_values(by='action', ascending=False)[:3000].index)]"
   ]
  },
  {
   "cell_type": "code",
   "execution_count": 8,
   "metadata": {},
   "outputs": [],
   "source": [
    "del actions, users_actions"
   ]
  },
  {
   "cell_type": "code",
   "execution_count": 9,
   "metadata": {},
   "outputs": [
    {
     "name": "stderr",
     "output_type": "stream",
     "text": [
      "C:\\Users\\Wh1te\\AppData\\Local\\Temp\\ipykernel_50268\\3219188853.py:4: SettingWithCopyWarning: \n",
      "A value is trying to be set on a copy of a slice from a DataFrame.\n",
      "Try using .loc[row_indexer,col_indexer] = value instead\n",
      "\n",
      "See the caveats in the documentation: https://pandas.pydata.org/pandas-docs/stable/user_guide/indexing.html#returning-a-view-versus-a-copy\n",
      "  purchase_data['target'] = 1\n"
     ]
    }
   ],
   "source": [
    "purchase_data = actions_cutted[actions_cutted['action'] == 5]\n",
    "\n",
    "# Создаем целевую переменную\n",
    "purchase_data['target'] = 1\n",
    "\n",
    "# Генерируем все комбинации пользователей и товаров для предсказания\n",
    "all_users = actions_cutted['user_id'].unique()\n",
    "all_products = actions_cutted['productId'].unique()\n",
    "pred_data = pd.DataFrame([(user, product) for user in all_users for product in all_products],\n",
    "                         columns=['user_id', 'productId'])\n",
    "\n",
    "# Добавляем флажок покупки для товаров, которые не покупали\n",
    "pred_data['target'] = 0  # Предположим, что по умолчанию ничего не куплено\n",
    "\n",
    "# Объединяем с данными о покупках, чтобы пометить покупки\n",
    "pred_data = pred_data.merge(purchase_data[['user_id', 'productId']], on=['user_id', 'productId'], how='left', indicator=True)\n",
    "pred_data['target'] = pred_data['_merge'].apply(lambda x: 1 if x == 'both' else 0)\n",
    "pred_data.drop(columns=['_merge'], inplace=True)\n",
    "\n",
    "# Кодируем категориальные переменные\n",
    "pred_data['user_id'] = pred_data['user_id'].astype('category').cat.codes\n",
    "pred_data['productId'] = pred_data['productId'].astype('category').cat.codes"
   ]
  },
  {
   "cell_type": "code",
   "execution_count": 10,
   "metadata": {},
   "outputs": [
    {
     "name": "stdout",
     "output_type": "stream",
     "text": [
      "[LightGBM] [Info] Number of positive: 5957, number of negative: 156738939\n",
      "[LightGBM] [Info] Auto-choosing row-wise multi-threading, the overhead of testing was 0.136303 seconds.\n",
      "You can set `force_row_wise=true` to remove the overhead.\n",
      "And if memory is not enough, you can set `force_col_wise=true`.\n",
      "[LightGBM] [Info] Total Bins 510\n",
      "[LightGBM] [Info] Number of data points in the train set: 156744896, number of used features: 2\n",
      "[LightGBM] [Info] [binary:BoostFromScore]: pavg=0.000038 -> initscore=-10.177770\n",
      "[LightGBM] [Info] Start training from score -10.177770\n"
     ]
    },
    {
     "ename": "",
     "evalue": "",
     "output_type": "error",
     "traceback": [
      "\u001b[1;31mThe Kernel crashed while executing code in the current cell or a previous cell. \n",
      "\u001b[1;31mPlease review the code in the cell(s) to identify a possible cause of the failure. \n",
      "\u001b[1;31mClick <a href='https://aka.ms/vscodeJupyterKernelCrash'>here</a> for more info. \n",
      "\u001b[1;31mView Jupyter <a href='command:jupyter.viewOutput'>log</a> for further details."
     ]
    }
   ],
   "source": [
    "# Обучаем модель\n",
    "X = pred_data[['user_id', 'productId']]\n",
    "y = pred_data['target']\n",
    "\n",
    "# Разделяем на обучающую и тестовую выборки\n",
    "X_train, X_test, y_train, y_test = train_test_split(X, y, test_size=0.2, random_state=42)\n",
    "\n",
    "# Создаем датасеты для LightGBM\n",
    "train_data = lgb.Dataset(X_train, label=y_train)\n",
    "test_data = lgb.Dataset(X_test, label=y_test, reference=train_data)\n",
    "\n",
    "# Задаем параметры модели\n",
    "params = {\n",
    "    'objective': 'binary',\n",
    "    'metric': 'binary_logloss',\n",
    "    'boosting_type': 'gbdt',\n",
    "    'num_leaves': 31,\n",
    "    'learning_rate': 0.05,\n",
    "    'feature_fraction': 0.9\n",
    "}\n",
    "\n",
    "# Обучаем модель\n",
    "lgb_model = lgb.train(params, train_data, num_boost_round=100, valid_sets=test_data, force_col_wise=True)"
   ]
  },
  {
   "cell_type": "code",
   "execution_count": null,
   "metadata": {},
   "outputs": [],
   "source": [
    "# Получаем предсказания для всех комбинаций пользователей и товаров\n",
    "predictions = lgb_model.predict(pred_data[['user_id', 'productId']])\n",
    "\n",
    "# Добавляем предсказания в датафрейм\n",
    "pred_data['prediction'] = predictions"
   ]
  },
  {
   "cell_type": "code",
   "execution_count": 1,
   "metadata": {},
   "outputs": [
    {
     "ename": "NameError",
     "evalue": "name 'pred_data' is not defined",
     "output_type": "error",
     "traceback": [
      "\u001b[1;31m---------------------------------------------------------------------------\u001b[0m",
      "\u001b[1;31mNameError\u001b[0m                                 Traceback (most recent call last)",
      "Cell \u001b[1;32mIn[1], line 2\u001b[0m\n\u001b[0;32m      1\u001b[0m \u001b[38;5;66;03m# Получаем топ-25 товаров для каждого пользователя\u001b[39;00m\n\u001b[1;32m----> 2\u001b[0m top_recommendations \u001b[38;5;241m=\u001b[39m \u001b[43mpred_data\u001b[49m\u001b[38;5;241m.\u001b[39msort_values([\u001b[38;5;124m'\u001b[39m\u001b[38;5;124muser_id\u001b[39m\u001b[38;5;124m'\u001b[39m, \u001b[38;5;124m'\u001b[39m\u001b[38;5;124mprediction\u001b[39m\u001b[38;5;124m'\u001b[39m], ascending\u001b[38;5;241m=\u001b[39m[\u001b[38;5;28;01mTrue\u001b[39;00m, \u001b[38;5;28;01mFalse\u001b[39;00m])\n\u001b[0;32m      3\u001b[0m top_recommendations \u001b[38;5;241m=\u001b[39m top_recommendations\u001b[38;5;241m.\u001b[39mgroupby(\u001b[38;5;124m'\u001b[39m\u001b[38;5;124muser_id\u001b[39m\u001b[38;5;124m'\u001b[39m)\u001b[38;5;241m.\u001b[39mhead(\u001b[38;5;241m25\u001b[39m)\n\u001b[0;32m      5\u001b[0m \u001b[38;5;66;03m# Сохраняем в csv файл\u001b[39;00m\n",
      "\u001b[1;31mNameError\u001b[0m: name 'pred_data' is not defined"
     ]
    }
   ],
   "source": [
    "# Получаем топ-25 товаров для каждого пользователя\n",
    "top_recommendations = pred_data.sort_values(['user_id', 'prediction'], ascending=[True, False])\n",
    "top_recommendations = top_recommendations.groupby('user_id').head(25)\n",
    "\n",
    "# Сохраняем в csv файл\n",
    "top_recommendations[['user_id', 'productId', 'prediction']].to_csv('../output/predictions/LGB_result_1.csv', index=False)\n"
   ]
  }
 ],
 "metadata": {
  "kernelspec": {
   "display_name": ".venv",
   "language": "python",
   "name": "python3"
  },
  "language_info": {
   "codemirror_mode": {
    "name": "ipython",
    "version": 3
   },
   "file_extension": ".py",
   "mimetype": "text/x-python",
   "name": "python",
   "nbconvert_exporter": "python",
   "pygments_lexer": "ipython3",
   "version": "3.12.3"
  }
 },
 "nbformat": 4,
 "nbformat_minor": 2
}
