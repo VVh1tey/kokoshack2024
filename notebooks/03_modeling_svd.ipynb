{
 "cells": [
  {
   "cell_type": "code",
   "execution_count": 60,
   "metadata": {},
   "outputs": [],
   "source": [
    "import pandas as pd\n",
    "import numpy as np\n",
    "\n",
    "import seaborn as sns\n",
    "import matplotlib.pyplot as plt\n",
    "\n",
    "from datetime import datetime, timedelta\n",
    "\n",
    "from tqdm import tqdm"
   ]
  },
  {
   "cell_type": "code",
   "execution_count": 2,
   "metadata": {},
   "outputs": [],
   "source": [
    "train_actions = pd.read_parquet('../data/raw/train_actions.pq', engine='pyarrow')\n",
    "stokman_catalog = pd.read_parquet('../data/raw/stokman_catalog_preprocessed.pq', engine='pyarrow')"
   ]
  },
  {
   "cell_type": "code",
   "execution_count": 3,
   "metadata": {},
   "outputs": [],
   "source": [
    "def min_preprocessing(actions, catalog):\n",
    "    \n",
    "    actions.date = pd.to_datetime(actions.date)\n",
    "    actions = actions.explode('products')\n",
    "    actions.products = actions.products.fillna(0)\n",
    "    actions.products = actions.products.astype(int)\n",
    "    actions.rename({'products': 'productId'}, axis=1, inplace=True)\n",
    "\n",
    "    catalog.add_date = pd.to_datetime(catalog.add_date)\n",
    "    catalog.shop_id = catalog.shop_id.astype(int)\n",
    "    catalog.category_id = catalog.category_id.astype(int)\n",
    "    catalog.product_id = catalog.product_id.astype(int)\n",
    "    catalog.drop(['title'], axis=1, inplace=True)\n",
    "    \n",
    "    return actions, catalog"
   ]
  },
  {
   "cell_type": "code",
   "execution_count": 4,
   "metadata": {},
   "outputs": [],
   "source": [
    "actions, catalog = min_preprocessing(train_actions, stokman_catalog)\n",
    "del train_actions, stokman_catalog"
   ]
  },
  {
   "cell_type": "code",
   "execution_count": 5,
   "metadata": {},
   "outputs": [],
   "source": [
    "users_actions = actions.groupby('user_id').agg({'action':'count'}).sort_values(by='action', ascending=False)"
   ]
  },
  {
   "cell_type": "code",
   "execution_count": 6,
   "metadata": {},
   "outputs": [],
   "source": [
    "actions_cutted = actions[actions.user_id.isin(users_actions.sort_values(by='action', ascending=False)[:10000].index)]\n",
    "del actions, users_actions"
   ]
  },
  {
   "cell_type": "code",
   "execution_count": 7,
   "metadata": {},
   "outputs": [],
   "source": [
    "scores = pd.DataFrame(index=actions_cutted['user_id'].unique(), columns=catalog.product_id.unique())"
   ]
  },
  {
   "cell_type": "code",
   "execution_count": 8,
   "metadata": {},
   "outputs": [
    {
     "name": "stderr",
     "output_type": "stream",
     "text": [
      "C:\\Users\\Wh1te\\AppData\\Local\\Temp\\ipykernel_109080\\2566394871.py:1: FutureWarning: Downcasting object dtype arrays on .fillna, .ffill, .bfill is deprecated and will change in a future version. Call result.infer_objects(copy=False) instead. To opt-in to the future behavior, set `pd.set_option('future.no_silent_downcasting', True)`\n",
      "  scores = scores.fillna(0)\n"
     ]
    }
   ],
   "source": [
    "scores = scores.fillna(0)"
   ]
  },
  {
   "cell_type": "code",
   "execution_count": 37,
   "metadata": {},
   "outputs": [],
   "source": [
    "ACTIONS = {\n",
    "    0: 'view',\n",
    "    1: 'like',\n",
    "    2: 'addB',\n",
    "    3: 'delB',\n",
    "    4: 'clearB',\n",
    "    5: 'order',\n",
    "    6: 'listB',\n",
    "    7: 'visit',\n",
    "    8: 'visitCategory',\n",
    "    9: 'search'\n",
    "}\n",
    "\n",
    "action_coefficients = {\n",
    "    0: 1,   # view\n",
    "    1: 6,   # like\n",
    "    2: 8,   # addB\n",
    "    3: -4,  # delB\n",
    "    4: -4,  # clearB\n",
    "    5: 10,  # order\n",
    "    6: 0,   # listB\n",
    "    7: 2,   # visit\n",
    "    8: 2,   # visitCategory\n",
    "    9: 4    # search\n",
    "}\n",
    "actions_coefs_arr = np.array([1, 6, 8, -4, -4, 10, 0, 2, 2, 4])"
   ]
  },
  {
   "cell_type": "code",
   "execution_count": 10,
   "metadata": {},
   "outputs": [],
   "source": [
    "action_counts_df = actions_cutted.groupby(['user_id', 'productId', 'action']).size().unstack(fill_value=0).reset_index()"
   ]
  },
  {
   "cell_type": "code",
   "execution_count": 86,
   "metadata": {},
   "outputs": [],
   "source": [
    "action_counts_df['score'] = (action_counts_df.iloc[:, 2:].values @ actions_coefs_arr)"
   ]
  },
  {
   "cell_type": "code",
   "execution_count": 88,
   "metadata": {},
   "outputs": [],
   "source": [
    "pivot_scores = action_counts_df.pivot_table(values='score', index='user_id', columns='productId', fill_value=0)"
   ]
  },
  {
   "cell_type": "code",
   "execution_count": 89,
   "metadata": {},
   "outputs": [],
   "source": [
    "scores.update(pivot_scores)"
   ]
  },
  {
   "cell_type": "code",
   "execution_count": 90,
   "metadata": {},
   "outputs": [],
   "source": [
    "del pivot_scores"
   ]
  },
  {
   "cell_type": "code",
   "execution_count": 92,
   "metadata": {},
   "outputs": [
    {
     "data": {
      "text/plain": [
       "(10000, 91888)"
      ]
     },
     "execution_count": 92,
     "metadata": {},
     "output_type": "execute_result"
    }
   ],
   "source": [
    "scores.shape"
   ]
  },
  {
   "cell_type": "code",
   "execution_count": 93,
   "metadata": {},
   "outputs": [],
   "source": [
    "scores = scores.drop(columns=scores.columns[(scores == 0).all()])"
   ]
  },
  {
   "cell_type": "code",
   "execution_count": 94,
   "metadata": {},
   "outputs": [
    {
     "data": {
      "text/plain": [
       "(10000, 62174)"
      ]
     },
     "execution_count": 94,
     "metadata": {},
     "output_type": "execute_result"
    }
   ],
   "source": [
    "scores.shape"
   ]
  },
  {
   "cell_type": "code",
   "execution_count": 96,
   "metadata": {},
   "outputs": [],
   "source": [
    "from sklearn.decomposition import TruncatedSVD\n",
    "from sklearn.metrics.pairwise import cosine_similarity"
   ]
  },
  {
   "cell_type": "code",
   "execution_count": 97,
   "metadata": {},
   "outputs": [
    {
     "name": "stdout",
     "output_type": "stream",
     "text": [
      "User features matrix:\n",
      "[[ 5.45602900e+03 -1.04852608e+00]\n",
      " [ 1.09400169e+03 -1.78226156e-01]\n",
      " [ 6.51999354e+02 -9.69670755e-02]\n",
      " ...\n",
      " [ 3.31999813e+02 -5.01851991e-02]\n",
      " [ 2.19999950e+02 -3.34752651e-02]\n",
      " [ 3.02000326e+02 -4.82740071e-02]]\n",
      "\n",
      "Item features matrix:\n",
      "[[ 8.18733261e-08  5.77285700e-07  9.56147397e-07 ...  3.18106536e-08\n",
      "   8.40247645e-06  9.67356661e-08]\n",
      " [-4.31445397e-07 -3.16535203e-06 -5.62487861e-06 ... -1.67253953e-07\n",
      "  -5.18509972e-05 -5.06760865e-07]]\n"
     ]
    }
   ],
   "source": [
    "svd = TruncatedSVD(n_components=2)\n",
    "decomposed_matrix = svd.fit_transform(scores)\n",
    "item_matrix = svd.components_"
   ]
  },
  {
   "cell_type": "code",
   "execution_count": 99,
   "metadata": {},
   "outputs": [],
   "source": [
    "reconstructed_matrix = np.dot(decomposed_matrix, item_matrix)\n",
    "predicted_ratings = pd.DataFrame(reconstructed_matrix, columns=scores.columns, index=scores.index)"
   ]
  },
  {
   "cell_type": "code",
   "execution_count": 117,
   "metadata": {},
   "outputs": [],
   "source": [
    "top_25_items_per_user = predicted_ratings.apply(lambda row: row.nlargest(25).index.tolist(), axis=1)"
   ]
  },
  {
   "cell_type": "code",
   "execution_count": 118,
   "metadata": {},
   "outputs": [],
   "source": [
    "top_25_items_per_user = top_25_items_per_user.reset_index().rename({'index':'user_id', 0:'products'}, axis=1)\n",
    "top_25_items_per_user.products = top_25_items_per_user.products.apply(lambda elem: [str(x) for x in elem])"
   ]
  },
  {
   "cell_type": "code",
   "execution_count": 135,
   "metadata": {},
   "outputs": [],
   "source": [
    "top_25_items_per_user.iloc[0:3000].to_csv('../output/predictions/SVD_result_1.csv', index=False)"
   ]
  },
  {
   "cell_type": "code",
   "execution_count": 125,
   "metadata": {},
   "outputs": [
    {
     "data": {
      "text/plain": [
       "count    378209.000000\n",
       "mean         16.236977\n",
       "std         141.601901\n",
       "min         -20.000000\n",
       "25%           1.000000\n",
       "50%           1.000000\n",
       "75%           2.000000\n",
       "max       23564.000000\n",
       "Name: score, dtype: float64"
      ]
     },
     "execution_count": 125,
     "metadata": {},
     "output_type": "execute_result"
    }
   ],
   "source": [
    "action_counts_df.score.describe()"
   ]
  },
  {
   "cell_type": "code",
   "execution_count": 127,
   "metadata": {},
   "outputs": [],
   "source": [
    "for col in predicted_ratings.columns:\n",
    "    predicted_ratings[col] = predicted_ratings[col].astype(int)"
   ]
  },
  {
   "cell_type": "code",
   "execution_count": 129,
   "metadata": {},
   "outputs": [],
   "source": [
    "predicted_ratings = predicted_ratings.drop(columns=predicted_ratings.columns[(predicted_ratings == 0).all()])"
   ]
  },
  {
   "cell_type": "code",
   "execution_count": 137,
   "metadata": {},
   "outputs": [],
   "source": [
    "top25_new = predicted_ratings.apply(lambda row: row.nlargest(25).index.tolist(), axis=1)"
   ]
  },
  {
   "cell_type": "code",
   "execution_count": 138,
   "metadata": {},
   "outputs": [],
   "source": [
    "top25_new = top25_new.reset_index().rename({'index':'user_id', 0:'products'}, axis=1)\n",
    "top25_new.products = top25_new.products.apply(lambda elem: [str(x) for x in elem])\n",
    "top25_new.iloc[0:3000].to_csv('../output/predictions/SVD_result_2.csv', index=False)"
   ]
  }
 ],
 "metadata": {
  "kernelspec": {
   "display_name": ".venv",
   "language": "python",
   "name": "python3"
  },
  "language_info": {
   "codemirror_mode": {
    "name": "ipython",
    "version": 3
   },
   "file_extension": ".py",
   "mimetype": "text/x-python",
   "name": "python",
   "nbconvert_exporter": "python",
   "pygments_lexer": "ipython3",
   "version": "3.12.3"
  }
 },
 "nbformat": 4,
 "nbformat_minor": 2
}
